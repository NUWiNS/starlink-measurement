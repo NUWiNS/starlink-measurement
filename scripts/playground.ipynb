{
 "cells": [
  {
   "cell_type": "code",
   "id": "initial_id",
   "metadata": {
    "collapsed": true,
    "ExecuteTime": {
     "end_time": "2024-06-16T19:18:25.552118Z",
     "start_time": "2024-06-16T19:18:25.541613Z"
    }
   },
   "source": [
    "import os\n",
    "import pandas as pd"
   ],
   "outputs": [],
   "execution_count": 16
  },
  {
   "metadata": {
    "ExecuteTime": {
     "end_time": "2024-06-16T19:52:44.806206Z",
     "start_time": "2024-06-16T19:52:44.778949Z"
    }
   },
   "cell_type": "code",
   "source": [
    "def check_samples(df: pd.DataFrame, label: str):\n",
    "    full_len = len(df)\n",
    "    print(f'{label} full samples count: {full_len}')\n",
    "    \n",
    "def check_negative_loss(df: pd.DataFrame, operator: str):\n",
    "    # ensure loss is a float before the comparison\n",
    "    full_len = len(df)\n",
    "    df['loss'] = df['loss'].astype(float)\n",
    "    negative_loss_row_df = df[df['loss'] < 0]\n",
    "    if not negative_loss_row_df.empty:\n",
    "        print(f'Found negative loss in {operator}, count: {len(negative_loss_row_df)} / {full_len}')\n",
    "        print(negative_loss_row_df)\n",
    "    else:\n",
    "        print(f'Not found negative loss in {operator}, full length: {full_len}')\n",
    "        \n",
    "def check_zero_tput(df: pd.DataFrame, operator: str):\n",
    "    full_len = len(df)\n",
    "    zero_tput_row_df = df[df['throughput_mbps'] == 0]\n",
    "    if not zero_tput_row_df.empty:\n",
    "        print(f'Found zero throughput in {operator}, count: {len(zero_tput_row_df)} / {full_len}')\n",
    "        # print(zero_tput_row_df)\n",
    "    else:\n",
    "        print(f'Not found zero throughput in {operator}, full length: {full_len}')"
   ],
   "id": "d8688639bbc6cb99",
   "outputs": [],
   "execution_count": 25
  },
  {
   "metadata": {
    "ExecuteTime": {
     "end_time": "2024-06-16T19:50:42.939769Z",
     "start_time": "2024-06-16T19:50:42.521739Z"
    }
   },
   "cell_type": "code",
   "source": [
    "dataset_dir = os.path.join(os.getcwd(), '../datasets/maine_starlink_trip/throughput')\n",
    "\n",
    "att_tcp_dl_df = pd.read_csv(os.path.join(dataset_dir, 'att_tcp_downlink.csv'))\n",
    "verizon_tcp_dl_df = pd.read_csv(os.path.join(dataset_dir, 'verizon_tcp_downlink.csv'))\n",
    "starlink_tcp_dl_df = pd.read_csv(os.path.join(dataset_dir, 'starlink_tcp_downlink.csv'))\n",
    "\n",
    "att_tcp_ul_df = pd.read_csv(os.path.join(dataset_dir, 'att_tcp_uplink.csv'))\n",
    "verizon_tcp_ul_df = pd.read_csv(os.path.join(dataset_dir, 'verizon_tcp_uplink.csv'))\n",
    "starlink_tcp_ul_df = pd.read_csv(os.path.join(dataset_dir, 'starlink_tcp_uplink.csv'))\n",
    "\n",
    "att_udp_dl_df = pd.read_csv(os.path.join(dataset_dir, 'att_udp_downlink.csv'))\n",
    "verizon_udp_dl_df = pd.read_csv(os.path.join(dataset_dir, 'verizon_udp_downlink.csv'))\n",
    "starlink_udp_dl_df = pd.read_csv(os.path.join(dataset_dir, 'starlink_udp_downlink.csv'))\n",
    "\n",
    "att_udp_ul_df = pd.read_csv(os.path.join(dataset_dir, 'att_udp_uplink.csv'))\n",
    "verizon_udp_ul_df = pd.read_csv(os.path.join(dataset_dir, 'verizon_udp_uplink.csv'))\n",
    "starlink_udp_ul_df = pd.read_csv(os.path.join(dataset_dir, 'starlink_udp_uplink.csv'))"
   ],
   "id": "afcfba4f795a7fb5",
   "outputs": [],
   "execution_count": 20
  },
  {
   "metadata": {
    "ExecuteTime": {
     "end_time": "2024-06-16T19:51:29.344290Z",
     "start_time": "2024-06-16T19:51:29.337593Z"
    }
   },
   "cell_type": "code",
   "source": [
    "check_samples(att_tcp_dl_df, 'att_tcp_dl')\n",
    "check_samples(verizon_tcp_dl_df, 'verizon_tcp_dl')\n",
    "check_samples(starlink_tcp_dl_df, 'starlink_tcp_dl')\n",
    "print('--------')\n",
    "check_samples(att_tcp_ul_df, 'att_tcp_ul')\n",
    "check_samples(verizon_tcp_ul_df, 'verizon_tcp_ul')\n",
    "check_samples(starlink_tcp_ul_df, 'starlink_tcp_ul')\n",
    "print('--------')\n",
    "check_samples(att_udp_ul_df, 'att_udp_ul')\n",
    "check_samples(verizon_udp_ul_df, 'verizon_udp_ul')\n",
    "check_samples(starlink_udp_ul_df, 'starlink_udp_ul')\n",
    "print('--------')\n",
    "check_samples(att_udp_dl_df, 'att_udp_dl')\n",
    "check_samples(verizon_udp_dl_df, 'verizon_udp_dl')\n",
    "check_samples(starlink_udp_dl_df, 'starlink_udp_dl')"
   ],
   "id": "496dcf46318d738",
   "outputs": [
    {
     "name": "stdout",
     "output_type": "stream",
     "text": [
      "att_tcp_dl full samples count: 17935\n",
      "verizon_tcp_dl full samples count: 17132\n",
      "starlink_tcp_dl full samples count: 17367\n",
      "--------\n",
      "att_tcp_ul full samples count: 15240\n",
      "verizon_tcp_ul full samples count: 15330\n",
      "starlink_tcp_ul full samples count: 14986\n",
      "--------\n",
      "att_udp_ul full samples count: 9189\n",
      "verizon_udp_ul full samples count: 8377\n",
      "starlink_udp_ul full samples count: 8461\n",
      "--------\n",
      "att_udp_dl full samples count: 12970\n",
      "verizon_udp_dl full samples count: 8255\n",
      "starlink_udp_dl full samples count: 14769\n"
     ]
    }
   ],
   "execution_count": 23
  },
  {
   "metadata": {
    "ExecuteTime": {
     "end_time": "2024-06-16T19:52:49.437728Z",
     "start_time": "2024-06-16T19:52:49.421541Z"
    }
   },
   "cell_type": "code",
   "source": [
    "check_zero_tput(att_tcp_dl_df, 'att_tcp_dl')\n",
    "check_zero_tput(verizon_tcp_dl_df, 'verizon_tcp_dl')\n",
    "check_zero_tput(starlink_tcp_dl_df, 'starlink_tcp_dl')\n",
    "print('--------')\n",
    "check_zero_tput(att_tcp_ul_df, 'att_tcp_ul')\n",
    "check_zero_tput(verizon_tcp_ul_df, 'verizon_tcp_ul')\n",
    "check_zero_tput(starlink_tcp_ul_df, 'starlink_tcp_ul')\n",
    "print('--------')\n",
    "check_zero_tput(att_udp_ul_df, 'att_udp_ul')\n",
    "check_zero_tput(verizon_udp_ul_df, 'verizon_udp_ul')\n",
    "check_zero_tput(starlink_udp_ul_df, 'starlink_udp_ul')\n",
    "print('--------')\n",
    "check_zero_tput(att_udp_dl_df, 'att_udp_dl')\n",
    "check_zero_tput(verizon_udp_dl_df, 'verizon_udp_dl')\n",
    "check_zero_tput(starlink_udp_dl_df, 'starlink_udp_dl')\n",
    "\n"
   ],
   "id": "8015319b62ec32ba",
   "outputs": [
    {
     "name": "stdout",
     "output_type": "stream",
     "text": [
      "Found zero throughput in att_tcp_dl, count: 1297 / 17935\n",
      "Found zero throughput in verizon_tcp_dl, count: 1364 / 17132\n",
      "Found zero throughput in starlink_tcp_dl, count: 398 / 17367\n",
      "--------\n",
      "Found zero throughput in att_tcp_ul, count: 2830 / 15240\n",
      "Found zero throughput in verizon_tcp_ul, count: 3287 / 15330\n",
      "Found zero throughput in starlink_tcp_ul, count: 278 / 14986\n",
      "--------\n",
      "Found zero throughput in att_udp_ul, count: 254 / 9189\n",
      "Found zero throughput in verizon_udp_ul, count: 210 / 8377\n",
      "Found zero throughput in starlink_udp_ul, count: 31 / 8461\n",
      "--------\n",
      "Found zero throughput in att_udp_dl, count: 269 / 12970\n",
      "Found zero throughput in verizon_udp_dl, count: 319 / 8255\n",
      "Found zero throughput in starlink_udp_dl, count: 154 / 14769\n"
     ]
    }
   ],
   "execution_count": 26
  },
  {
   "metadata": {
    "ExecuteTime": {
     "end_time": "2024-06-16T04:19:05.582191Z",
     "start_time": "2024-06-16T04:19:05.555981Z"
    }
   },
   "cell_type": "code",
   "source": [
    "check_negative_loss(att_udp_dl_df, 'att')\n",
    "check_negative_loss(verizon_udp_dl_df, 'verizon')\n",
    "check_negative_loss(starlink_udp_dl_df, 'starlink')"
   ],
   "id": "aab67eca707789e8",
   "outputs": [
    {
     "name": "stdout",
     "output_type": "stream",
     "text": [
      "Found negative loss in att, count: 26 / 12970\n",
      "                             time  throughput_mbps  pkt_drop  pkt_total  \\\n",
      "986    2024-05-29T11:49:36.744642             5.15        -4        226   \n",
      "1774   2024-05-29T16:44:29.323295            41.80      -365       1503   \n",
      "2960   2024-05-29T12:46:27.203373             7.35       -43        285   \n",
      "2964   2024-05-29T12:46:27.203755            20.40      -160        751   \n",
      "4568   2024-05-27T11:27:30.526301            18.00       -13        789   \n",
      "5290   2024-05-27T14:15:21.699871             2.26       -20         81   \n",
      "5398   2024-05-27T14:16:10.705795             9.68        -5        427   \n",
      "5399   2024-05-27T14:16:10.705895             0.54       -23          1   \n",
      "5424   2024-05-27T14:16:10.708504             3.20       -43        100   \n",
      "5426   2024-05-27T14:16:35.698812             5.80       -45        214   \n",
      "5799   2024-05-27T18:28:25.597873             3.50       -35        121   \n",
      "5845   2024-05-27T18:28:50.097822             7.68      -105        238   \n",
      "6686   2024-05-27T14:55:12.247796             1.79       -60         20   \n",
      "7298   2024-05-27T15:07:47.018315             3.65        -1        162   \n",
      "7397   2024-05-27T15:08:35.501865             9.18       -26        384   \n",
      "8194   2024-05-28T18:10:04.646716             4.55        -3        200   \n",
      "8304   2024-05-28T18:10:54.147609             5.17       -26        205   \n",
      "9427   2024-05-28T18:45:54.504893            35.40       -42       1540   \n",
      "9506   2024-05-28T18:46:19.009727            21.70       -63        907   \n",
      "9507   2024-05-28T18:46:19.009824            14.30       -74        565   \n",
      "9547   2024-05-28T18:46:43.508717            29.60       -81       1241   \n",
      "9587   2024-05-28T18:47:07.975950             2.66       -51         68   \n",
      "11649  2024-05-28T17:46:17.074231             0.36        -1         15   \n",
      "11650  2024-05-28T17:46:17.074336             0.13        -2          4   \n",
      "12029  2024-05-28T19:53:18.231535           169.00     -2330       5230   \n",
      "12572  2024-05-28T19:09:19.729079             5.38       -61        179   \n",
      "\n",
      "          loss  \n",
      "986      -1.80  \n",
      "1774    -24.00  \n",
      "2960    -15.00  \n",
      "2964    -21.00  \n",
      "4568     -1.60  \n",
      "5290    -25.00  \n",
      "5398     -1.20  \n",
      "5399  -2300.00  \n",
      "5424    -43.00  \n",
      "5426    -21.00  \n",
      "5799    -29.00  \n",
      "5845    -44.00  \n",
      "6686   -300.00  \n",
      "7298     -0.62  \n",
      "7397     -6.80  \n",
      "8194     -1.50  \n",
      "8304    -13.00  \n",
      "9427     -2.70  \n",
      "9506     -6.90  \n",
      "9507    -13.00  \n",
      "9547     -6.50  \n",
      "9587    -75.00  \n",
      "11649    -6.70  \n",
      "11650   -50.00  \n",
      "12029   -45.00  \n",
      "12572   -34.00  \n",
      "Found negative loss in verizon, count: 64 / 8255\n",
      "                            time  throughput_mbps  pkt_drop  pkt_total    loss\n",
      "229   2024-05-27T12:09:56.275450            16.40      -113        618  -18.00\n",
      "277   2024-05-27T18:28:22.880461            15.10       -89        587  -15.00\n",
      "278   2024-05-27T18:28:22.880565            18.50      -239        587  -41.00\n",
      "286   2024-05-27T18:28:22.881381             9.41      -155        265  -58.00\n",
      "311   2024-05-27T18:28:48.369822           103.00     -3863        735 -530.00\n",
      "...                          ...              ...       ...        ...     ...\n",
      "5943  2024-05-28T11:36:30.669025           136.00       -37       6019   -0.61\n",
      "6946  2024-05-28T14:17:09.976417             8.38      -247        127 -190.00\n",
      "7675  2024-05-28T14:55:13.441746            43.20       -62       1871   -3.30\n",
      "7755  2024-05-28T14:55:52.706132             8.17      -102        263  -39.00\n",
      "7760  2024-05-28T14:55:52.706412             1.34        -6         54  -11.00\n",
      "\n",
      "[64 rows x 5 columns]\n",
      "Found negative loss in starlink, count: 1 / 14769\n",
      "                            time  throughput_mbps  pkt_drop  pkt_total  loss\n",
      "1449  2024-05-29T12:30:02.832643            332.0     -6104       8734 -70.0\n"
     ]
    }
   ],
   "execution_count": 15
  },
  {
   "metadata": {
    "ExecuteTime": {
     "end_time": "2024-06-16T19:18:32.429572Z",
     "start_time": "2024-06-16T19:18:32.290491Z"
    }
   },
   "cell_type": "code",
   "source": [
    "# Ping data inspection\n",
    "import os\n",
    "import pandas as pd\n",
    "\n",
    "dataset_dir = os.path.join(os.getcwd(), '../datasets/maine_starlink_trip/ping')\n",
    "\n",
    "att_ping_df = pd.read_csv(os.path.join(dataset_dir, 'att_ping.csv'))\n",
    "verizon_ping_df = pd.read_csv(os.path.join(dataset_dir, 'verizon_ping.csv'))\n",
    "starlink_ping_df = pd.read_csv(os.path.join(dataset_dir, 'starlink_ping.csv'))\n",
    "\n",
    "check_samples(att_ping_df, 'att_ping')\n",
    "check_samples(verizon_ping_df, 'verizon_ping')\n",
    "check_samples(starlink_ping_df, 'starlink_ping')\n"
   ],
   "id": "25602c241bd4bc8",
   "outputs": [
    {
     "name": "stdout",
     "output_type": "stream",
     "text": [
      "att_ping full samples count: 18079\n",
      "verizon_ping full samples count: 18582\n",
      "starlink_ping full samples count: 17938\n"
     ]
    }
   ],
   "execution_count": 18
  },
  {
   "metadata": {
    "ExecuteTime": {
     "end_time": "2024-06-16T20:29:51.879445Z",
     "start_time": "2024-06-16T20:29:51.623982Z"
    }
   },
   "cell_type": "code",
   "source": [
    "import os\n",
    "import pandas as pd\n",
    "\n",
    "dataset_dir = os.path.join(os.getcwd(), '../datasets/maine_starlink_trip/starlink')\n",
    "\n",
    "starlink_metric_df = pd.read_csv(os.path.join(dataset_dir, 'starlink_metric.csv'))\n",
    "check_samples(starlink_metric_df, 'starlink_metric')"
   ],
   "id": "4a9f33f05bcf79d9",
   "outputs": [
    {
     "name": "stdout",
     "output_type": "stream",
     "text": [
      "starlink_metric full samples count: 102930\n"
     ]
    }
   ],
   "execution_count": 27
  },
  {
   "metadata": {},
   "cell_type": "code",
   "outputs": [],
   "execution_count": null,
   "source": "",
   "id": "da46cd1fc1af8064"
  }
 ],
 "metadata": {
  "kernelspec": {
   "display_name": "Python 3",
   "language": "python",
   "name": "python3"
  },
  "language_info": {
   "codemirror_mode": {
    "name": "ipython",
    "version": 2
   },
   "file_extension": ".py",
   "mimetype": "text/x-python",
   "name": "python",
   "nbconvert_exporter": "python",
   "pygments_lexer": "ipython2",
   "version": "2.7.6"
  }
 },
 "nbformat": 4,
 "nbformat_minor": 5
}
