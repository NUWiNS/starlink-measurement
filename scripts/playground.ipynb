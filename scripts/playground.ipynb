{
 "cells": [
  {
   "cell_type": "code",
   "id": "initial_id",
   "metadata": {
    "collapsed": true,
    "ExecuteTime": {
     "end_time": "2024-06-18T21:45:37.571276Z",
     "start_time": "2024-06-18T21:45:29.638816Z"
    }
   },
   "source": [
    "import os\n",
    "import pandas as pd"
   ],
   "outputs": [
    {
     "name": "stdout",
     "output_type": "stream",
     "text": [
      "Intel MKL WARNING: Support of Intel(R) Streaming SIMD Extensions 4.2 (Intel(R) SSE4.2) enabled only processors has been deprecated. Intel oneAPI Math Kernel Library 2025.0 will require Intel(R) Advanced Vector Extensions (Intel(R) AVX) instructions.\n",
      "Intel MKL WARNING: Support of Intel(R) Streaming SIMD Extensions 4.2 (Intel(R) SSE4.2) enabled only processors has been deprecated. Intel oneAPI Math Kernel Library 2025.0 will require Intel(R) Advanced Vector Extensions (Intel(R) AVX) instructions.\n"
     ]
    }
   ],
   "execution_count": 1
  },
  {
   "metadata": {
    "ExecuteTime": {
     "end_time": "2024-06-18T21:45:37.578615Z",
     "start_time": "2024-06-18T21:45:37.572902Z"
    }
   },
   "cell_type": "code",
   "source": [
    "def check_samples(df: pd.DataFrame, label: str):\n",
    "    full_len = len(df)\n",
    "    print(f'{label} full samples count: {full_len}')\n",
    "\n",
    "\n",
    "def check_negative_loss(df: pd.DataFrame, operator: str):\n",
    "    # ensure loss is a float before the comparison\n",
    "    full_len = len(df)\n",
    "    df['loss'] = df['loss'].astype(float)\n",
    "    negative_loss_row_df = df[df['loss'] < 0]\n",
    "    if not negative_loss_row_df.empty:\n",
    "        print(f'Found negative loss in {operator}, count: {len(negative_loss_row_df)} / {full_len}')\n",
    "        print(negative_loss_row_df)\n",
    "    else:\n",
    "        print(f'Not found negative loss in {operator}, full length: {full_len}')\n",
    "\n",
    "\n",
    "def check_zero_tput(df: pd.DataFrame, operator: str):\n",
    "    full_len = len(df)\n",
    "    zero_tput_row_df = df[df['throughput_mbps'] == 0]\n",
    "    if not zero_tput_row_df.empty:\n",
    "        print(f'Found zero throughput in {operator}, count: {len(zero_tput_row_df)} / {full_len}')\n",
    "        # print(zero_tput_row_df)\n",
    "    else:\n",
    "        print(f'Not found zero throughput in {operator}, full length: {full_len}')"
   ],
   "id": "d8688639bbc6cb99",
   "outputs": [],
   "execution_count": 2
  },
  {
   "metadata": {
    "ExecuteTime": {
     "end_time": "2024-06-18T21:45:37.721126Z",
     "start_time": "2024-06-18T21:45:37.580022Z"
    }
   },
   "cell_type": "code",
   "source": [
    "dataset_dir = os.path.join(os.getcwd(), '../datasets/maine_starlink_trip/throughput')\n",
    "\n",
    "att_tcp_dl_df = pd.read_csv(os.path.join(dataset_dir, 'att_tcp_downlink.csv'))\n",
    "verizon_tcp_dl_df = pd.read_csv(os.path.join(dataset_dir, 'verizon_tcp_downlink.csv'))\n",
    "starlink_tcp_dl_df = pd.read_csv(os.path.join(dataset_dir, 'starlink_tcp_downlink.csv'))\n",
    "\n",
    "att_tcp_ul_df = pd.read_csv(os.path.join(dataset_dir, 'att_tcp_uplink.csv'))\n",
    "verizon_tcp_ul_df = pd.read_csv(os.path.join(dataset_dir, 'verizon_tcp_uplink.csv'))\n",
    "starlink_tcp_ul_df = pd.read_csv(os.path.join(dataset_dir, 'starlink_tcp_uplink.csv'))\n",
    "\n",
    "att_udp_dl_df = pd.read_csv(os.path.join(dataset_dir, 'att_udp_downlink.csv'))\n",
    "verizon_udp_dl_df = pd.read_csv(os.path.join(dataset_dir, 'verizon_udp_downlink.csv'))\n",
    "starlink_udp_dl_df = pd.read_csv(os.path.join(dataset_dir, 'starlink_udp_downlink.csv'))\n",
    "\n",
    "att_udp_ul_df = pd.read_csv(os.path.join(dataset_dir, 'att_udp_uplink.csv'))\n",
    "verizon_udp_ul_df = pd.read_csv(os.path.join(dataset_dir, 'verizon_udp_uplink.csv'))\n",
    "starlink_udp_ul_df = pd.read_csv(os.path.join(dataset_dir, 'starlink_udp_uplink.csv'))"
   ],
   "id": "afcfba4f795a7fb5",
   "outputs": [],
   "execution_count": 3
  },
  {
   "metadata": {
    "ExecuteTime": {
     "end_time": "2024-06-16T19:51:29.344290Z",
     "start_time": "2024-06-16T19:51:29.337593Z"
    }
   },
   "cell_type": "code",
   "source": [
    "check_samples(att_tcp_dl_df, 'att_tcp_dl')\n",
    "check_samples(verizon_tcp_dl_df, 'verizon_tcp_dl')\n",
    "check_samples(starlink_tcp_dl_df, 'starlink_tcp_dl')\n",
    "print('--------')\n",
    "check_samples(att_tcp_ul_df, 'att_tcp_ul')\n",
    "check_samples(verizon_tcp_ul_df, 'verizon_tcp_ul')\n",
    "check_samples(starlink_tcp_ul_df, 'starlink_tcp_ul')\n",
    "print('--------')\n",
    "check_samples(att_udp_ul_df, 'att_udp_ul')\n",
    "check_samples(verizon_udp_ul_df, 'verizon_udp_ul')\n",
    "check_samples(starlink_udp_ul_df, 'starlink_udp_ul')\n",
    "print('--------')\n",
    "check_samples(att_udp_dl_df, 'att_udp_dl')\n",
    "check_samples(verizon_udp_dl_df, 'verizon_udp_dl')\n",
    "check_samples(starlink_udp_dl_df, 'starlink_udp_dl')"
   ],
   "id": "496dcf46318d738",
   "outputs": [
    {
     "name": "stdout",
     "output_type": "stream",
     "text": [
      "att_tcp_dl full samples count: 17935\n",
      "verizon_tcp_dl full samples count: 17132\n",
      "starlink_tcp_dl full samples count: 17367\n",
      "--------\n",
      "att_tcp_ul full samples count: 15240\n",
      "verizon_tcp_ul full samples count: 15330\n",
      "starlink_tcp_ul full samples count: 14986\n",
      "--------\n",
      "att_udp_ul full samples count: 9189\n",
      "verizon_udp_ul full samples count: 8377\n",
      "starlink_udp_ul full samples count: 8461\n",
      "--------\n",
      "att_udp_dl full samples count: 12970\n",
      "verizon_udp_dl full samples count: 8255\n",
      "starlink_udp_dl full samples count: 14769\n"
     ]
    }
   ],
   "execution_count": 23
  },
  {
   "metadata": {
    "ExecuteTime": {
     "end_time": "2024-06-16T19:52:49.437728Z",
     "start_time": "2024-06-16T19:52:49.421541Z"
    }
   },
   "cell_type": "code",
   "source": [
    "check_zero_tput(att_tcp_dl_df, 'att_tcp_dl')\n",
    "check_zero_tput(verizon_tcp_dl_df, 'verizon_tcp_dl')\n",
    "check_zero_tput(starlink_tcp_dl_df, 'starlink_tcp_dl')\n",
    "print('--------')\n",
    "check_zero_tput(att_tcp_ul_df, 'att_tcp_ul')\n",
    "check_zero_tput(verizon_tcp_ul_df, 'verizon_tcp_ul')\n",
    "check_zero_tput(starlink_tcp_ul_df, 'starlink_tcp_ul')\n",
    "print('--------')\n",
    "check_zero_tput(att_udp_ul_df, 'att_udp_ul')\n",
    "check_zero_tput(verizon_udp_ul_df, 'verizon_udp_ul')\n",
    "check_zero_tput(starlink_udp_ul_df, 'starlink_udp_ul')\n",
    "print('--------')\n",
    "check_zero_tput(att_udp_dl_df, 'att_udp_dl')\n",
    "check_zero_tput(verizon_udp_dl_df, 'verizon_udp_dl')\n",
    "check_zero_tput(starlink_udp_dl_df, 'starlink_udp_dl')\n",
    "\n"
   ],
   "id": "8015319b62ec32ba",
   "outputs": [
    {
     "name": "stdout",
     "output_type": "stream",
     "text": [
      "Found zero throughput in att_tcp_dl, count: 1297 / 17935\n",
      "Found zero throughput in verizon_tcp_dl, count: 1364 / 17132\n",
      "Found zero throughput in starlink_tcp_dl, count: 398 / 17367\n",
      "--------\n",
      "Found zero throughput in att_tcp_ul, count: 2830 / 15240\n",
      "Found zero throughput in verizon_tcp_ul, count: 3287 / 15330\n",
      "Found zero throughput in starlink_tcp_ul, count: 278 / 14986\n",
      "--------\n",
      "Found zero throughput in att_udp_ul, count: 254 / 9189\n",
      "Found zero throughput in verizon_udp_ul, count: 210 / 8377\n",
      "Found zero throughput in starlink_udp_ul, count: 31 / 8461\n",
      "--------\n",
      "Found zero throughput in att_udp_dl, count: 269 / 12970\n",
      "Found zero throughput in verizon_udp_dl, count: 319 / 8255\n",
      "Found zero throughput in starlink_udp_dl, count: 154 / 14769\n"
     ]
    }
   ],
   "execution_count": 26
  },
  {
   "metadata": {
    "ExecuteTime": {
     "end_time": "2024-06-16T04:19:05.582191Z",
     "start_time": "2024-06-16T04:19:05.555981Z"
    }
   },
   "cell_type": "code",
   "source": [
    "check_negative_loss(att_udp_dl_df, 'att')\n",
    "check_negative_loss(verizon_udp_dl_df, 'verizon')\n",
    "check_negative_loss(starlink_udp_dl_df, 'starlink')"
   ],
   "id": "aab67eca707789e8",
   "outputs": [
    {
     "name": "stdout",
     "output_type": "stream",
     "text": [
      "Found negative loss in att, count: 26 / 12970\n",
      "                             time  throughput_mbps  pkt_drop  pkt_total  \\\n",
      "986    2024-05-29T11:49:36.744642             5.15        -4        226   \n",
      "1774   2024-05-29T16:44:29.323295            41.80      -365       1503   \n",
      "2960   2024-05-29T12:46:27.203373             7.35       -43        285   \n",
      "2964   2024-05-29T12:46:27.203755            20.40      -160        751   \n",
      "4568   2024-05-27T11:27:30.526301            18.00       -13        789   \n",
      "5290   2024-05-27T14:15:21.699871             2.26       -20         81   \n",
      "5398   2024-05-27T14:16:10.705795             9.68        -5        427   \n",
      "5399   2024-05-27T14:16:10.705895             0.54       -23          1   \n",
      "5424   2024-05-27T14:16:10.708504             3.20       -43        100   \n",
      "5426   2024-05-27T14:16:35.698812             5.80       -45        214   \n",
      "5799   2024-05-27T18:28:25.597873             3.50       -35        121   \n",
      "5845   2024-05-27T18:28:50.097822             7.68      -105        238   \n",
      "6686   2024-05-27T14:55:12.247796             1.79       -60         20   \n",
      "7298   2024-05-27T15:07:47.018315             3.65        -1        162   \n",
      "7397   2024-05-27T15:08:35.501865             9.18       -26        384   \n",
      "8194   2024-05-28T18:10:04.646716             4.55        -3        200   \n",
      "8304   2024-05-28T18:10:54.147609             5.17       -26        205   \n",
      "9427   2024-05-28T18:45:54.504893            35.40       -42       1540   \n",
      "9506   2024-05-28T18:46:19.009727            21.70       -63        907   \n",
      "9507   2024-05-28T18:46:19.009824            14.30       -74        565   \n",
      "9547   2024-05-28T18:46:43.508717            29.60       -81       1241   \n",
      "9587   2024-05-28T18:47:07.975950             2.66       -51         68   \n",
      "11649  2024-05-28T17:46:17.074231             0.36        -1         15   \n",
      "11650  2024-05-28T17:46:17.074336             0.13        -2          4   \n",
      "12029  2024-05-28T19:53:18.231535           169.00     -2330       5230   \n",
      "12572  2024-05-28T19:09:19.729079             5.38       -61        179   \n",
      "\n",
      "          loss  \n",
      "986      -1.80  \n",
      "1774    -24.00  \n",
      "2960    -15.00  \n",
      "2964    -21.00  \n",
      "4568     -1.60  \n",
      "5290    -25.00  \n",
      "5398     -1.20  \n",
      "5399  -2300.00  \n",
      "5424    -43.00  \n",
      "5426    -21.00  \n",
      "5799    -29.00  \n",
      "5845    -44.00  \n",
      "6686   -300.00  \n",
      "7298     -0.62  \n",
      "7397     -6.80  \n",
      "8194     -1.50  \n",
      "8304    -13.00  \n",
      "9427     -2.70  \n",
      "9506     -6.90  \n",
      "9507    -13.00  \n",
      "9547     -6.50  \n",
      "9587    -75.00  \n",
      "11649    -6.70  \n",
      "11650   -50.00  \n",
      "12029   -45.00  \n",
      "12572   -34.00  \n",
      "Found negative loss in verizon, count: 64 / 8255\n",
      "                            time  throughput_mbps  pkt_drop  pkt_total    loss\n",
      "229   2024-05-27T12:09:56.275450            16.40      -113        618  -18.00\n",
      "277   2024-05-27T18:28:22.880461            15.10       -89        587  -15.00\n",
      "278   2024-05-27T18:28:22.880565            18.50      -239        587  -41.00\n",
      "286   2024-05-27T18:28:22.881381             9.41      -155        265  -58.00\n",
      "311   2024-05-27T18:28:48.369822           103.00     -3863        735 -530.00\n",
      "...                          ...              ...       ...        ...     ...\n",
      "5943  2024-05-28T11:36:30.669025           136.00       -37       6019   -0.61\n",
      "6946  2024-05-28T14:17:09.976417             8.38      -247        127 -190.00\n",
      "7675  2024-05-28T14:55:13.441746            43.20       -62       1871   -3.30\n",
      "7755  2024-05-28T14:55:52.706132             8.17      -102        263  -39.00\n",
      "7760  2024-05-28T14:55:52.706412             1.34        -6         54  -11.00\n",
      "\n",
      "[64 rows x 5 columns]\n",
      "Found negative loss in starlink, count: 1 / 14769\n",
      "                            time  throughput_mbps  pkt_drop  pkt_total  loss\n",
      "1449  2024-05-29T12:30:02.832643            332.0     -6104       8734 -70.0\n"
     ]
    }
   ],
   "execution_count": 15
  },
  {
   "metadata": {
    "ExecuteTime": {
     "end_time": "2024-06-16T19:18:32.429572Z",
     "start_time": "2024-06-16T19:18:32.290491Z"
    }
   },
   "cell_type": "code",
   "source": [
    "# Ping data inspection\n",
    "import os\n",
    "import pandas as pd\n",
    "\n",
    "dataset_dir = os.path.join(os.getcwd(), '../datasets/maine_starlink_trip/ping')\n",
    "\n",
    "att_ping_df = pd.read_csv(os.path.join(dataset_dir, 'att_ping.csv'))\n",
    "verizon_ping_df = pd.read_csv(os.path.join(dataset_dir, 'verizon_ping.csv'))\n",
    "starlink_ping_df = pd.read_csv(os.path.join(dataset_dir, 'starlink_ping.csv'))\n",
    "\n",
    "check_samples(att_ping_df, 'att_ping')\n",
    "check_samples(verizon_ping_df, 'verizon_ping')\n",
    "check_samples(starlink_ping_df, 'starlink_ping')\n"
   ],
   "id": "25602c241bd4bc8",
   "outputs": [
    {
     "name": "stdout",
     "output_type": "stream",
     "text": [
      "att_ping full samples count: 18079\n",
      "verizon_ping full samples count: 18582\n",
      "starlink_ping full samples count: 17938\n"
     ]
    }
   ],
   "execution_count": 18
  },
  {
   "metadata": {
    "ExecuteTime": {
     "end_time": "2024-06-16T20:29:51.879445Z",
     "start_time": "2024-06-16T20:29:51.623982Z"
    }
   },
   "cell_type": "code",
   "source": [
    "import os\n",
    "import pandas as pd\n",
    "\n",
    "dataset_dir = os.path.join(os.getcwd(), '../datasets/maine_starlink_trip/starlink')\n",
    "\n",
    "starlink_metric_df = pd.read_csv(os.path.join(dataset_dir, 'starlink_metric.csv'))\n",
    "check_samples(starlink_metric_df, 'starlink_metric')"
   ],
   "id": "4a9f33f05bcf79d9",
   "outputs": [
    {
     "name": "stdout",
     "output_type": "stream",
     "text": [
      "starlink_metric full samples count: 102930\n"
     ]
    }
   ],
   "execution_count": 27
  },
  {
   "metadata": {
    "ExecuteTime": {
     "end_time": "2024-08-14T22:26:08.917536Z",
     "start_time": "2024-08-14T22:26:08.769056Z"
    }
   },
   "cell_type": "code",
   "source": [
    "from typing import List\n",
    "from scripts.time_utils import StartEndLogTimeProcessor\n",
    "import glob\n",
    "\n",
    "# Test timestamp sequence\n",
    "import os\n",
    "import glob\n",
    "from datetime import datetime\n",
    "\n",
    "data_dir = os.path.join(os.getcwd(), '../datasets/dev/dev_tests')\n",
    "att_data_dir = os.path.join(data_dir, 'att')\n",
    "verizon_data_dir = os.path.join(data_dir, 'verizon')\n",
    "\n",
    "\n",
    "def dir(base, file_path):\n",
    "    return os.path.join(base, file_path)\n",
    "\n",
    "def second_diff(start_ts: datetime, end_ts: datetime):\n",
    "    return (end_ts - start_ts).total_seconds()\n",
    "        \n",
    "\n",
    "def get_start_end_time_sequences(id, test_1_path, test_2_path):\n",
    "    test_1_file_patterns = [\n",
    "        'tcp_downlink*',\n",
    "        'tcp_uplink*',\n",
    "        'ping*',\n",
    "    ]\n",
    "    test_2_file_patterns = [\n",
    "        'udp_downlink*',\n",
    "        'udp_uplink*',\n",
    "        'ping*',\n",
    "        'traceroute*',\n",
    "        'nslookup*',\n",
    "    ]\n",
    "\n",
    "    test_1_files = []\n",
    "    for pattern in test_1_file_patterns:\n",
    "        test_1_files.extend(glob.glob(dir(test_1_path, pattern)))\n",
    "    test_2_files = []\n",
    "    for pattern in test_2_file_patterns:\n",
    "        test_2_files.extend(glob.glob(dir(test_2_path, pattern)))\n",
    "\n",
    "    test_1_seq = []\n",
    "    for i, file in enumerate(test_1_files):\n",
    "        f = open(file, 'r')\n",
    "        res = StartEndLogTimeProcessor.get_start_end_time_from_log(f.read(), timezone_str='US/Eastern')\n",
    "        start_t, end_t = res[0]\n",
    "        test_1_seq.append({\n",
    "            'id': id,\n",
    "            'start_t': start_t,\n",
    "            'end_t': end_t,\n",
    "            'text': f'{second_diff(start_ts=start_t, end_ts=end_t)}s',\n",
    "            'file': test_1_file_patterns[i],\n",
    "        })\n",
    "    test_2_seq = []\n",
    "    for i, file in enumerate(test_2_files):\n",
    "        f = open(file, 'r')\n",
    "        res = StartEndLogTimeProcessor.get_start_end_time_from_log(f.read(), timezone_str='US/Eastern')\n",
    "        start_t, end_t = res[0]\n",
    "        test_2_seq.append({\n",
    "            'id': id,\n",
    "            'start_t': start_t,\n",
    "            'end_t': end_t,\n",
    "            'text': f'{second_diff(start_ts=start_t, end_ts=end_t)}s',\n",
    "            'file': test_2_file_patterns[i]\n",
    "        })\n",
    "\n",
    "    return test_1_seq, test_2_seq\n",
    "\n",
    "\n",
    "test_1_seq, test_2_seq = get_start_end_time_sequences(\n",
    "    id='att',\n",
    "    test_1_path=dir(att_data_dir, '20240814/004814234'),\n",
    "    test_2_path=dir(att_data_dir, '20240814/005358874')\n",
    ")\n",
    "\n",
    "test_3_seq, test_4_seq = get_start_end_time_sequences(\n",
    "    id='verizon',\n",
    "    test_1_path=dir(verizon_data_dir, '20240814/004814321'),\n",
    "    test_2_path=dir(verizon_data_dir, '20240814/005359084')\n",
    ")\n",
    "\n",
    "# print the total duration\n",
    "def total_duration(seq):\n",
    "    return (seq[-1]['end_t'] - seq[0]['start_t']).total_seconds()\n",
    "\n",
    "print(f'att test duration: {total_duration([*test_1_seq, *test_2_seq])}s')\n",
    "print(f'verizon test duration: {total_duration([*test_3_seq, *test_4_seq])}s')\n",
    "\n",
    "# time diff between att and verizon\n",
    "def print_time_diff(seq1, seq2):\n",
    "    for seq1_item, seq2_item in zip(seq1, seq2):\n",
    "        print(f'{seq1_item[\"file\"]} time diff: {second_diff(start_ts=seq1_item[\"end_t\"], end_ts=seq2_item[\"end_t\"])}s')\n",
    "        \n",
    "        \n",
    "print_time_diff([*test_1_seq, *test_2_seq], [*test_3_seq, *test_4_seq])\n",
    "# visualize the time sequence\n",
    "\n",
    "import plotly.express as px\n",
    "import pandas as pd\n",
    "from datetime import datetime\n",
    "\n",
    "\n",
    "def visualize_sequence(data: List[dict]):\n",
    "    # Convert to DataFrame\n",
    "    df = pd.DataFrame(data)\n",
    "\n",
    "    # Convert string times to datetime objects\n",
    "    df['start_t'] = pd.to_datetime(df['start_t'])\n",
    "    df['end_t'] = pd.to_datetime(df['end_t'])\n",
    "\n",
    "    # Create the Gantt chart\n",
    "    fig = px.timeline(df,\n",
    "                      x_start='start_t',\n",
    "                      x_end='end_t',\n",
    "                      y='id',\n",
    "                      text='text',\n",
    "                      title='File Timeline')\n",
    "    \n",
    "    # shorten the height of bars\n",
    "    \n",
    "\n",
    "    # Update layout for better readability\n",
    "    fig.update_layout(\n",
    "        height=400,\n",
    "    )\n",
    "\n",
    "    # Show the plot\n",
    "    fig.show()\n",
    "\n",
    "\n",
    "visualize_sequence([*test_1_seq, *test_2_seq, *test_3_seq, *test_4_seq])"
   ],
   "id": "da46cd1fc1af8064",
   "outputs": [
    {
     "name": "stdout",
     "output_type": "stream",
     "text": [
      "att test duration: 719.778s\n",
      "verizon test duration: 719.838s\n",
      "tcp_downlink* time diff: 0.103s\n",
      "tcp_uplink* time diff: 0.185s\n",
      "ping* time diff: 0.228s\n",
      "udp_downlink* time diff: 0.206s\n",
      "udp_uplink* time diff: 0.122s\n",
      "ping* time diff: 0.109s\n",
      "traceroute* time diff: 0.12s\n",
      "nslookup* time diff: 0.146s\n"
     ]
    },
    {
     "data": {
      "application/vnd.plotly.v1+json": {
       "data": [
        {
         "alignmentgroup": "True",
         "base": [
          "2024-08-14T00:48:14.252000-04:00",
          "2024-08-14T00:50:36.434000-04:00",
          "2024-08-14T00:52:58.617000-04:00",
          "2024-08-14T00:53:58.897000-04:00",
          "2024-08-14T00:56:21.153000-04:00",
          "2024-08-14T00:58:43.436000-04:00",
          "2024-08-14T00:59:38.651000-04:00",
          "2024-08-14T00:59:58.911000-04:00",
          "2024-08-14T00:48:14.338000-04:00",
          "2024-08-14T00:50:36.562000-04:00",
          "2024-08-14T00:52:58.831000-04:00",
          "2024-08-14T00:53:59.101000-04:00",
          "2024-08-14T00:56:21.331000-04:00",
          "2024-08-14T00:58:43.539000-04:00",
          "2024-08-14T00:59:38.764000-04:00",
          "2024-08-14T00:59:59.020000-04:00"
         ],
         "hovertemplate": "start_t=%{base}<br>end_t=%{x}<br>id=%{y}<br>text=%{text}<extra></extra>",
         "legendgroup": "",
         "marker": {
          "color": "#636efa",
          "pattern": {
           "shape": ""
          }
         },
         "name": "",
         "offsetgroup": "",
         "orientation": "h",
         "showlegend": false,
         "text": [
          "140.073s",
          "140.078s",
          "50.081s",
          "140.108s",
          "140.145s",
          "50.101s",
          "15.093s",
          "15.119s",
          "140.09s",
          "140.135s",
          "50.095s",
          "140.11s",
          "140.089s",
          "50.107s",
          "15.1s",
          "15.156s"
         ],
         "textposition": "auto",
         "x": [
          140073.0,
          140078.0,
          50081.0,
          140108.0,
          140145.0,
          50101.0,
          15093.0,
          15119.0,
          140090.0,
          140135.0,
          50095.0,
          140110.0,
          140089.0,
          50107.0,
          15100.0,
          15156.0
         ],
         "xaxis": "x",
         "y": [
          "att",
          "att",
          "att",
          "att",
          "att",
          "att",
          "att",
          "att",
          "verizon",
          "verizon",
          "verizon",
          "verizon",
          "verizon",
          "verizon",
          "verizon",
          "verizon"
         ],
         "yaxis": "y",
         "type": "bar"
        }
       ],
       "layout": {
        "template": {
         "data": {
          "histogram2dcontour": [
           {
            "type": "histogram2dcontour",
            "colorbar": {
             "outlinewidth": 0,
             "ticks": ""
            },
            "colorscale": [
             [
              0.0,
              "#0d0887"
             ],
             [
              0.1111111111111111,
              "#46039f"
             ],
             [
              0.2222222222222222,
              "#7201a8"
             ],
             [
              0.3333333333333333,
              "#9c179e"
             ],
             [
              0.4444444444444444,
              "#bd3786"
             ],
             [
              0.5555555555555556,
              "#d8576b"
             ],
             [
              0.6666666666666666,
              "#ed7953"
             ],
             [
              0.7777777777777778,
              "#fb9f3a"
             ],
             [
              0.8888888888888888,
              "#fdca26"
             ],
             [
              1.0,
              "#f0f921"
             ]
            ]
           }
          ],
          "choropleth": [
           {
            "type": "choropleth",
            "colorbar": {
             "outlinewidth": 0,
             "ticks": ""
            }
           }
          ],
          "histogram2d": [
           {
            "type": "histogram2d",
            "colorbar": {
             "outlinewidth": 0,
             "ticks": ""
            },
            "colorscale": [
             [
              0.0,
              "#0d0887"
             ],
             [
              0.1111111111111111,
              "#46039f"
             ],
             [
              0.2222222222222222,
              "#7201a8"
             ],
             [
              0.3333333333333333,
              "#9c179e"
             ],
             [
              0.4444444444444444,
              "#bd3786"
             ],
             [
              0.5555555555555556,
              "#d8576b"
             ],
             [
              0.6666666666666666,
              "#ed7953"
             ],
             [
              0.7777777777777778,
              "#fb9f3a"
             ],
             [
              0.8888888888888888,
              "#fdca26"
             ],
             [
              1.0,
              "#f0f921"
             ]
            ]
           }
          ],
          "heatmap": [
           {
            "type": "heatmap",
            "colorbar": {
             "outlinewidth": 0,
             "ticks": ""
            },
            "colorscale": [
             [
              0.0,
              "#0d0887"
             ],
             [
              0.1111111111111111,
              "#46039f"
             ],
             [
              0.2222222222222222,
              "#7201a8"
             ],
             [
              0.3333333333333333,
              "#9c179e"
             ],
             [
              0.4444444444444444,
              "#bd3786"
             ],
             [
              0.5555555555555556,
              "#d8576b"
             ],
             [
              0.6666666666666666,
              "#ed7953"
             ],
             [
              0.7777777777777778,
              "#fb9f3a"
             ],
             [
              0.8888888888888888,
              "#fdca26"
             ],
             [
              1.0,
              "#f0f921"
             ]
            ]
           }
          ],
          "heatmapgl": [
           {
            "type": "heatmapgl",
            "colorbar": {
             "outlinewidth": 0,
             "ticks": ""
            },
            "colorscale": [
             [
              0.0,
              "#0d0887"
             ],
             [
              0.1111111111111111,
              "#46039f"
             ],
             [
              0.2222222222222222,
              "#7201a8"
             ],
             [
              0.3333333333333333,
              "#9c179e"
             ],
             [
              0.4444444444444444,
              "#bd3786"
             ],
             [
              0.5555555555555556,
              "#d8576b"
             ],
             [
              0.6666666666666666,
              "#ed7953"
             ],
             [
              0.7777777777777778,
              "#fb9f3a"
             ],
             [
              0.8888888888888888,
              "#fdca26"
             ],
             [
              1.0,
              "#f0f921"
             ]
            ]
           }
          ],
          "contourcarpet": [
           {
            "type": "contourcarpet",
            "colorbar": {
             "outlinewidth": 0,
             "ticks": ""
            }
           }
          ],
          "contour": [
           {
            "type": "contour",
            "colorbar": {
             "outlinewidth": 0,
             "ticks": ""
            },
            "colorscale": [
             [
              0.0,
              "#0d0887"
             ],
             [
              0.1111111111111111,
              "#46039f"
             ],
             [
              0.2222222222222222,
              "#7201a8"
             ],
             [
              0.3333333333333333,
              "#9c179e"
             ],
             [
              0.4444444444444444,
              "#bd3786"
             ],
             [
              0.5555555555555556,
              "#d8576b"
             ],
             [
              0.6666666666666666,
              "#ed7953"
             ],
             [
              0.7777777777777778,
              "#fb9f3a"
             ],
             [
              0.8888888888888888,
              "#fdca26"
             ],
             [
              1.0,
              "#f0f921"
             ]
            ]
           }
          ],
          "surface": [
           {
            "type": "surface",
            "colorbar": {
             "outlinewidth": 0,
             "ticks": ""
            },
            "colorscale": [
             [
              0.0,
              "#0d0887"
             ],
             [
              0.1111111111111111,
              "#46039f"
             ],
             [
              0.2222222222222222,
              "#7201a8"
             ],
             [
              0.3333333333333333,
              "#9c179e"
             ],
             [
              0.4444444444444444,
              "#bd3786"
             ],
             [
              0.5555555555555556,
              "#d8576b"
             ],
             [
              0.6666666666666666,
              "#ed7953"
             ],
             [
              0.7777777777777778,
              "#fb9f3a"
             ],
             [
              0.8888888888888888,
              "#fdca26"
             ],
             [
              1.0,
              "#f0f921"
             ]
            ]
           }
          ],
          "mesh3d": [
           {
            "type": "mesh3d",
            "colorbar": {
             "outlinewidth": 0,
             "ticks": ""
            }
           }
          ],
          "scatter": [
           {
            "marker": {
             "line": {
              "color": "#283442"
             }
            },
            "type": "scatter"
           }
          ],
          "parcoords": [
           {
            "type": "parcoords",
            "line": {
             "colorbar": {
              "outlinewidth": 0,
              "ticks": ""
             }
            }
           }
          ],
          "scatterpolargl": [
           {
            "type": "scatterpolargl",
            "marker": {
             "colorbar": {
              "outlinewidth": 0,
              "ticks": ""
             }
            }
           }
          ],
          "bar": [
           {
            "error_x": {
             "color": "#f2f5fa"
            },
            "error_y": {
             "color": "#f2f5fa"
            },
            "marker": {
             "line": {
              "color": "rgb(17,17,17)",
              "width": 0.5
             },
             "pattern": {
              "fillmode": "overlay",
              "size": 10,
              "solidity": 0.2
             }
            },
            "type": "bar"
           }
          ],
          "scattergeo": [
           {
            "type": "scattergeo",
            "marker": {
             "colorbar": {
              "outlinewidth": 0,
              "ticks": ""
             }
            }
           }
          ],
          "scatterpolar": [
           {
            "type": "scatterpolar",
            "marker": {
             "colorbar": {
              "outlinewidth": 0,
              "ticks": ""
             }
            }
           }
          ],
          "histogram": [
           {
            "marker": {
             "pattern": {
              "fillmode": "overlay",
              "size": 10,
              "solidity": 0.2
             }
            },
            "type": "histogram"
           }
          ],
          "scattergl": [
           {
            "marker": {
             "line": {
              "color": "#283442"
             }
            },
            "type": "scattergl"
           }
          ],
          "scatter3d": [
           {
            "type": "scatter3d",
            "line": {
             "colorbar": {
              "outlinewidth": 0,
              "ticks": ""
             }
            },
            "marker": {
             "colorbar": {
              "outlinewidth": 0,
              "ticks": ""
             }
            }
           }
          ],
          "scattermapbox": [
           {
            "type": "scattermapbox",
            "marker": {
             "colorbar": {
              "outlinewidth": 0,
              "ticks": ""
             }
            }
           }
          ],
          "scatterternary": [
           {
            "type": "scatterternary",
            "marker": {
             "colorbar": {
              "outlinewidth": 0,
              "ticks": ""
             }
            }
           }
          ],
          "scattercarpet": [
           {
            "type": "scattercarpet",
            "marker": {
             "colorbar": {
              "outlinewidth": 0,
              "ticks": ""
             }
            }
           }
          ],
          "carpet": [
           {
            "aaxis": {
             "endlinecolor": "#A2B1C6",
             "gridcolor": "#506784",
             "linecolor": "#506784",
             "minorgridcolor": "#506784",
             "startlinecolor": "#A2B1C6"
            },
            "baxis": {
             "endlinecolor": "#A2B1C6",
             "gridcolor": "#506784",
             "linecolor": "#506784",
             "minorgridcolor": "#506784",
             "startlinecolor": "#A2B1C6"
            },
            "type": "carpet"
           }
          ],
          "table": [
           {
            "cells": {
             "fill": {
              "color": "#506784"
             },
             "line": {
              "color": "rgb(17,17,17)"
             }
            },
            "header": {
             "fill": {
              "color": "#2a3f5f"
             },
             "line": {
              "color": "rgb(17,17,17)"
             }
            },
            "type": "table"
           }
          ],
          "barpolar": [
           {
            "marker": {
             "line": {
              "color": "rgb(17,17,17)",
              "width": 0.5
             },
             "pattern": {
              "fillmode": "overlay",
              "size": 10,
              "solidity": 0.2
             }
            },
            "type": "barpolar"
           }
          ],
          "pie": [
           {
            "automargin": true,
            "type": "pie"
           }
          ]
         },
         "layout": {
          "autotypenumbers": "strict",
          "colorway": [
           "#636efa",
           "#EF553B",
           "#00cc96",
           "#ab63fa",
           "#FFA15A",
           "#19d3f3",
           "#FF6692",
           "#B6E880",
           "#FF97FF",
           "#FECB52"
          ],
          "font": {
           "color": "#f2f5fa"
          },
          "hovermode": "closest",
          "hoverlabel": {
           "align": "left"
          },
          "paper_bgcolor": "rgb(17,17,17)",
          "plot_bgcolor": "rgb(17,17,17)",
          "polar": {
           "bgcolor": "rgb(17,17,17)",
           "angularaxis": {
            "gridcolor": "#506784",
            "linecolor": "#506784",
            "ticks": ""
           },
           "radialaxis": {
            "gridcolor": "#506784",
            "linecolor": "#506784",
            "ticks": ""
           }
          },
          "ternary": {
           "bgcolor": "rgb(17,17,17)",
           "aaxis": {
            "gridcolor": "#506784",
            "linecolor": "#506784",
            "ticks": ""
           },
           "baxis": {
            "gridcolor": "#506784",
            "linecolor": "#506784",
            "ticks": ""
           },
           "caxis": {
            "gridcolor": "#506784",
            "linecolor": "#506784",
            "ticks": ""
           }
          },
          "coloraxis": {
           "colorbar": {
            "outlinewidth": 0,
            "ticks": ""
           }
          },
          "colorscale": {
           "sequential": [
            [
             0.0,
             "#0d0887"
            ],
            [
             0.1111111111111111,
             "#46039f"
            ],
            [
             0.2222222222222222,
             "#7201a8"
            ],
            [
             0.3333333333333333,
             "#9c179e"
            ],
            [
             0.4444444444444444,
             "#bd3786"
            ],
            [
             0.5555555555555556,
             "#d8576b"
            ],
            [
             0.6666666666666666,
             "#ed7953"
            ],
            [
             0.7777777777777778,
             "#fb9f3a"
            ],
            [
             0.8888888888888888,
             "#fdca26"
            ],
            [
             1.0,
             "#f0f921"
            ]
           ],
           "sequentialminus": [
            [
             0.0,
             "#0d0887"
            ],
            [
             0.1111111111111111,
             "#46039f"
            ],
            [
             0.2222222222222222,
             "#7201a8"
            ],
            [
             0.3333333333333333,
             "#9c179e"
            ],
            [
             0.4444444444444444,
             "#bd3786"
            ],
            [
             0.5555555555555556,
             "#d8576b"
            ],
            [
             0.6666666666666666,
             "#ed7953"
            ],
            [
             0.7777777777777778,
             "#fb9f3a"
            ],
            [
             0.8888888888888888,
             "#fdca26"
            ],
            [
             1.0,
             "#f0f921"
            ]
           ],
           "diverging": [
            [
             0,
             "#8e0152"
            ],
            [
             0.1,
             "#c51b7d"
            ],
            [
             0.2,
             "#de77ae"
            ],
            [
             0.3,
             "#f1b6da"
            ],
            [
             0.4,
             "#fde0ef"
            ],
            [
             0.5,
             "#f7f7f7"
            ],
            [
             0.6,
             "#e6f5d0"
            ],
            [
             0.7,
             "#b8e186"
            ],
            [
             0.8,
             "#7fbc41"
            ],
            [
             0.9,
             "#4d9221"
            ],
            [
             1,
             "#276419"
            ]
           ]
          },
          "xaxis": {
           "gridcolor": "#283442",
           "linecolor": "#506784",
           "ticks": "",
           "title": {
            "standoff": 15
           },
           "zerolinecolor": "#283442",
           "automargin": true,
           "zerolinewidth": 2
          },
          "yaxis": {
           "gridcolor": "#283442",
           "linecolor": "#506784",
           "ticks": "",
           "title": {
            "standoff": 15
           },
           "zerolinecolor": "#283442",
           "automargin": true,
           "zerolinewidth": 2
          },
          "scene": {
           "xaxis": {
            "backgroundcolor": "rgb(17,17,17)",
            "gridcolor": "#506784",
            "linecolor": "#506784",
            "showbackground": true,
            "ticks": "",
            "zerolinecolor": "#C8D4E3",
            "gridwidth": 2
           },
           "yaxis": {
            "backgroundcolor": "rgb(17,17,17)",
            "gridcolor": "#506784",
            "linecolor": "#506784",
            "showbackground": true,
            "ticks": "",
            "zerolinecolor": "#C8D4E3",
            "gridwidth": 2
           },
           "zaxis": {
            "backgroundcolor": "rgb(17,17,17)",
            "gridcolor": "#506784",
            "linecolor": "#506784",
            "showbackground": true,
            "ticks": "",
            "zerolinecolor": "#C8D4E3",
            "gridwidth": 2
           }
          },
          "shapedefaults": {
           "line": {
            "color": "#f2f5fa"
           }
          },
          "annotationdefaults": {
           "arrowcolor": "#f2f5fa",
           "arrowhead": 0,
           "arrowwidth": 1
          },
          "geo": {
           "bgcolor": "rgb(17,17,17)",
           "landcolor": "rgb(17,17,17)",
           "subunitcolor": "#506784",
           "showland": true,
           "showlakes": true,
           "lakecolor": "rgb(17,17,17)"
          },
          "title": {
           "x": 0.05
          },
          "updatemenudefaults": {
           "bgcolor": "#506784",
           "borderwidth": 0
          },
          "sliderdefaults": {
           "bgcolor": "#C8D4E3",
           "borderwidth": 1,
           "bordercolor": "rgb(17,17,17)",
           "tickwidth": 0
          },
          "mapbox": {
           "style": "dark"
          }
         }
        },
        "xaxis": {
         "anchor": "y",
         "domain": [
          0.0,
          1.0
         ],
         "type": "date"
        },
        "yaxis": {
         "anchor": "x",
         "domain": [
          0.0,
          1.0
         ],
         "title": {
          "text": "id"
         }
        },
        "legend": {
         "tracegroupgap": 0
        },
        "title": {
         "text": "File Timeline"
        },
        "barmode": "overlay",
        "height": 400
       },
       "config": {
        "plotlyServerURL": "https://plot.ly"
       }
      },
      "text/html": [
       "<div>                            <div id=\"eca7f4d7-7750-4050-9097-d9f5a6865469\" class=\"plotly-graph-div\" style=\"height:400px; width:100%;\"></div>            <script type=\"text/javascript\">                require([\"plotly\"], function(Plotly) {                    window.PLOTLYENV=window.PLOTLYENV || {};                                    if (document.getElementById(\"eca7f4d7-7750-4050-9097-d9f5a6865469\")) {                    Plotly.newPlot(                        \"eca7f4d7-7750-4050-9097-d9f5a6865469\",                        [{\"alignmentgroup\":\"True\",\"base\":[\"2024-08-14T00:48:14.252000-04:00\",\"2024-08-14T00:50:36.434000-04:00\",\"2024-08-14T00:52:58.617000-04:00\",\"2024-08-14T00:53:58.897000-04:00\",\"2024-08-14T00:56:21.153000-04:00\",\"2024-08-14T00:58:43.436000-04:00\",\"2024-08-14T00:59:38.651000-04:00\",\"2024-08-14T00:59:58.911000-04:00\",\"2024-08-14T00:48:14.338000-04:00\",\"2024-08-14T00:50:36.562000-04:00\",\"2024-08-14T00:52:58.831000-04:00\",\"2024-08-14T00:53:59.101000-04:00\",\"2024-08-14T00:56:21.331000-04:00\",\"2024-08-14T00:58:43.539000-04:00\",\"2024-08-14T00:59:38.764000-04:00\",\"2024-08-14T00:59:59.020000-04:00\"],\"hovertemplate\":\"start_t=%{base}\\u003cbr\\u003eend_t=%{x}\\u003cbr\\u003eid=%{y}\\u003cbr\\u003etext=%{text}\\u003cextra\\u003e\\u003c\\u002fextra\\u003e\",\"legendgroup\":\"\",\"marker\":{\"color\":\"#636efa\",\"pattern\":{\"shape\":\"\"}},\"name\":\"\",\"offsetgroup\":\"\",\"orientation\":\"h\",\"showlegend\":false,\"text\":[\"140.073s\",\"140.078s\",\"50.081s\",\"140.108s\",\"140.145s\",\"50.101s\",\"15.093s\",\"15.119s\",\"140.09s\",\"140.135s\",\"50.095s\",\"140.11s\",\"140.089s\",\"50.107s\",\"15.1s\",\"15.156s\"],\"textposition\":\"auto\",\"x\":[140073.0,140078.0,50081.0,140108.0,140145.0,50101.0,15093.0,15119.0,140090.0,140135.0,50095.0,140110.0,140089.0,50107.0,15100.0,15156.0],\"xaxis\":\"x\",\"y\":[\"att\",\"att\",\"att\",\"att\",\"att\",\"att\",\"att\",\"att\",\"verizon\",\"verizon\",\"verizon\",\"verizon\",\"verizon\",\"verizon\",\"verizon\",\"verizon\"],\"yaxis\":\"y\",\"type\":\"bar\"}],                        {\"template\":{\"data\":{\"histogram2dcontour\":[{\"type\":\"histogram2dcontour\",\"colorbar\":{\"outlinewidth\":0,\"ticks\":\"\"},\"colorscale\":[[0.0,\"#0d0887\"],[0.1111111111111111,\"#46039f\"],[0.2222222222222222,\"#7201a8\"],[0.3333333333333333,\"#9c179e\"],[0.4444444444444444,\"#bd3786\"],[0.5555555555555556,\"#d8576b\"],[0.6666666666666666,\"#ed7953\"],[0.7777777777777778,\"#fb9f3a\"],[0.8888888888888888,\"#fdca26\"],[1.0,\"#f0f921\"]]}],\"choropleth\":[{\"type\":\"choropleth\",\"colorbar\":{\"outlinewidth\":0,\"ticks\":\"\"}}],\"histogram2d\":[{\"type\":\"histogram2d\",\"colorbar\":{\"outlinewidth\":0,\"ticks\":\"\"},\"colorscale\":[[0.0,\"#0d0887\"],[0.1111111111111111,\"#46039f\"],[0.2222222222222222,\"#7201a8\"],[0.3333333333333333,\"#9c179e\"],[0.4444444444444444,\"#bd3786\"],[0.5555555555555556,\"#d8576b\"],[0.6666666666666666,\"#ed7953\"],[0.7777777777777778,\"#fb9f3a\"],[0.8888888888888888,\"#fdca26\"],[1.0,\"#f0f921\"]]}],\"heatmap\":[{\"type\":\"heatmap\",\"colorbar\":{\"outlinewidth\":0,\"ticks\":\"\"},\"colorscale\":[[0.0,\"#0d0887\"],[0.1111111111111111,\"#46039f\"],[0.2222222222222222,\"#7201a8\"],[0.3333333333333333,\"#9c179e\"],[0.4444444444444444,\"#bd3786\"],[0.5555555555555556,\"#d8576b\"],[0.6666666666666666,\"#ed7953\"],[0.7777777777777778,\"#fb9f3a\"],[0.8888888888888888,\"#fdca26\"],[1.0,\"#f0f921\"]]}],\"heatmapgl\":[{\"type\":\"heatmapgl\",\"colorbar\":{\"outlinewidth\":0,\"ticks\":\"\"},\"colorscale\":[[0.0,\"#0d0887\"],[0.1111111111111111,\"#46039f\"],[0.2222222222222222,\"#7201a8\"],[0.3333333333333333,\"#9c179e\"],[0.4444444444444444,\"#bd3786\"],[0.5555555555555556,\"#d8576b\"],[0.6666666666666666,\"#ed7953\"],[0.7777777777777778,\"#fb9f3a\"],[0.8888888888888888,\"#fdca26\"],[1.0,\"#f0f921\"]]}],\"contourcarpet\":[{\"type\":\"contourcarpet\",\"colorbar\":{\"outlinewidth\":0,\"ticks\":\"\"}}],\"contour\":[{\"type\":\"contour\",\"colorbar\":{\"outlinewidth\":0,\"ticks\":\"\"},\"colorscale\":[[0.0,\"#0d0887\"],[0.1111111111111111,\"#46039f\"],[0.2222222222222222,\"#7201a8\"],[0.3333333333333333,\"#9c179e\"],[0.4444444444444444,\"#bd3786\"],[0.5555555555555556,\"#d8576b\"],[0.6666666666666666,\"#ed7953\"],[0.7777777777777778,\"#fb9f3a\"],[0.8888888888888888,\"#fdca26\"],[1.0,\"#f0f921\"]]}],\"surface\":[{\"type\":\"surface\",\"colorbar\":{\"outlinewidth\":0,\"ticks\":\"\"},\"colorscale\":[[0.0,\"#0d0887\"],[0.1111111111111111,\"#46039f\"],[0.2222222222222222,\"#7201a8\"],[0.3333333333333333,\"#9c179e\"],[0.4444444444444444,\"#bd3786\"],[0.5555555555555556,\"#d8576b\"],[0.6666666666666666,\"#ed7953\"],[0.7777777777777778,\"#fb9f3a\"],[0.8888888888888888,\"#fdca26\"],[1.0,\"#f0f921\"]]}],\"mesh3d\":[{\"type\":\"mesh3d\",\"colorbar\":{\"outlinewidth\":0,\"ticks\":\"\"}}],\"scatter\":[{\"marker\":{\"line\":{\"color\":\"#283442\"}},\"type\":\"scatter\"}],\"parcoords\":[{\"type\":\"parcoords\",\"line\":{\"colorbar\":{\"outlinewidth\":0,\"ticks\":\"\"}}}],\"scatterpolargl\":[{\"type\":\"scatterpolargl\",\"marker\":{\"colorbar\":{\"outlinewidth\":0,\"ticks\":\"\"}}}],\"bar\":[{\"error_x\":{\"color\":\"#f2f5fa\"},\"error_y\":{\"color\":\"#f2f5fa\"},\"marker\":{\"line\":{\"color\":\"rgb(17,17,17)\",\"width\":0.5},\"pattern\":{\"fillmode\":\"overlay\",\"size\":10,\"solidity\":0.2}},\"type\":\"bar\"}],\"scattergeo\":[{\"type\":\"scattergeo\",\"marker\":{\"colorbar\":{\"outlinewidth\":0,\"ticks\":\"\"}}}],\"scatterpolar\":[{\"type\":\"scatterpolar\",\"marker\":{\"colorbar\":{\"outlinewidth\":0,\"ticks\":\"\"}}}],\"histogram\":[{\"marker\":{\"pattern\":{\"fillmode\":\"overlay\",\"size\":10,\"solidity\":0.2}},\"type\":\"histogram\"}],\"scattergl\":[{\"marker\":{\"line\":{\"color\":\"#283442\"}},\"type\":\"scattergl\"}],\"scatter3d\":[{\"type\":\"scatter3d\",\"line\":{\"colorbar\":{\"outlinewidth\":0,\"ticks\":\"\"}},\"marker\":{\"colorbar\":{\"outlinewidth\":0,\"ticks\":\"\"}}}],\"scattermapbox\":[{\"type\":\"scattermapbox\",\"marker\":{\"colorbar\":{\"outlinewidth\":0,\"ticks\":\"\"}}}],\"scatterternary\":[{\"type\":\"scatterternary\",\"marker\":{\"colorbar\":{\"outlinewidth\":0,\"ticks\":\"\"}}}],\"scattercarpet\":[{\"type\":\"scattercarpet\",\"marker\":{\"colorbar\":{\"outlinewidth\":0,\"ticks\":\"\"}}}],\"carpet\":[{\"aaxis\":{\"endlinecolor\":\"#A2B1C6\",\"gridcolor\":\"#506784\",\"linecolor\":\"#506784\",\"minorgridcolor\":\"#506784\",\"startlinecolor\":\"#A2B1C6\"},\"baxis\":{\"endlinecolor\":\"#A2B1C6\",\"gridcolor\":\"#506784\",\"linecolor\":\"#506784\",\"minorgridcolor\":\"#506784\",\"startlinecolor\":\"#A2B1C6\"},\"type\":\"carpet\"}],\"table\":[{\"cells\":{\"fill\":{\"color\":\"#506784\"},\"line\":{\"color\":\"rgb(17,17,17)\"}},\"header\":{\"fill\":{\"color\":\"#2a3f5f\"},\"line\":{\"color\":\"rgb(17,17,17)\"}},\"type\":\"table\"}],\"barpolar\":[{\"marker\":{\"line\":{\"color\":\"rgb(17,17,17)\",\"width\":0.5},\"pattern\":{\"fillmode\":\"overlay\",\"size\":10,\"solidity\":0.2}},\"type\":\"barpolar\"}],\"pie\":[{\"automargin\":true,\"type\":\"pie\"}]},\"layout\":{\"autotypenumbers\":\"strict\",\"colorway\":[\"#636efa\",\"#EF553B\",\"#00cc96\",\"#ab63fa\",\"#FFA15A\",\"#19d3f3\",\"#FF6692\",\"#B6E880\",\"#FF97FF\",\"#FECB52\"],\"font\":{\"color\":\"#f2f5fa\"},\"hovermode\":\"closest\",\"hoverlabel\":{\"align\":\"left\"},\"paper_bgcolor\":\"rgb(17,17,17)\",\"plot_bgcolor\":\"rgb(17,17,17)\",\"polar\":{\"bgcolor\":\"rgb(17,17,17)\",\"angularaxis\":{\"gridcolor\":\"#506784\",\"linecolor\":\"#506784\",\"ticks\":\"\"},\"radialaxis\":{\"gridcolor\":\"#506784\",\"linecolor\":\"#506784\",\"ticks\":\"\"}},\"ternary\":{\"bgcolor\":\"rgb(17,17,17)\",\"aaxis\":{\"gridcolor\":\"#506784\",\"linecolor\":\"#506784\",\"ticks\":\"\"},\"baxis\":{\"gridcolor\":\"#506784\",\"linecolor\":\"#506784\",\"ticks\":\"\"},\"caxis\":{\"gridcolor\":\"#506784\",\"linecolor\":\"#506784\",\"ticks\":\"\"}},\"coloraxis\":{\"colorbar\":{\"outlinewidth\":0,\"ticks\":\"\"}},\"colorscale\":{\"sequential\":[[0.0,\"#0d0887\"],[0.1111111111111111,\"#46039f\"],[0.2222222222222222,\"#7201a8\"],[0.3333333333333333,\"#9c179e\"],[0.4444444444444444,\"#bd3786\"],[0.5555555555555556,\"#d8576b\"],[0.6666666666666666,\"#ed7953\"],[0.7777777777777778,\"#fb9f3a\"],[0.8888888888888888,\"#fdca26\"],[1.0,\"#f0f921\"]],\"sequentialminus\":[[0.0,\"#0d0887\"],[0.1111111111111111,\"#46039f\"],[0.2222222222222222,\"#7201a8\"],[0.3333333333333333,\"#9c179e\"],[0.4444444444444444,\"#bd3786\"],[0.5555555555555556,\"#d8576b\"],[0.6666666666666666,\"#ed7953\"],[0.7777777777777778,\"#fb9f3a\"],[0.8888888888888888,\"#fdca26\"],[1.0,\"#f0f921\"]],\"diverging\":[[0,\"#8e0152\"],[0.1,\"#c51b7d\"],[0.2,\"#de77ae\"],[0.3,\"#f1b6da\"],[0.4,\"#fde0ef\"],[0.5,\"#f7f7f7\"],[0.6,\"#e6f5d0\"],[0.7,\"#b8e186\"],[0.8,\"#7fbc41\"],[0.9,\"#4d9221\"],[1,\"#276419\"]]},\"xaxis\":{\"gridcolor\":\"#283442\",\"linecolor\":\"#506784\",\"ticks\":\"\",\"title\":{\"standoff\":15},\"zerolinecolor\":\"#283442\",\"automargin\":true,\"zerolinewidth\":2},\"yaxis\":{\"gridcolor\":\"#283442\",\"linecolor\":\"#506784\",\"ticks\":\"\",\"title\":{\"standoff\":15},\"zerolinecolor\":\"#283442\",\"automargin\":true,\"zerolinewidth\":2},\"scene\":{\"xaxis\":{\"backgroundcolor\":\"rgb(17,17,17)\",\"gridcolor\":\"#506784\",\"linecolor\":\"#506784\",\"showbackground\":true,\"ticks\":\"\",\"zerolinecolor\":\"#C8D4E3\",\"gridwidth\":2},\"yaxis\":{\"backgroundcolor\":\"rgb(17,17,17)\",\"gridcolor\":\"#506784\",\"linecolor\":\"#506784\",\"showbackground\":true,\"ticks\":\"\",\"zerolinecolor\":\"#C8D4E3\",\"gridwidth\":2},\"zaxis\":{\"backgroundcolor\":\"rgb(17,17,17)\",\"gridcolor\":\"#506784\",\"linecolor\":\"#506784\",\"showbackground\":true,\"ticks\":\"\",\"zerolinecolor\":\"#C8D4E3\",\"gridwidth\":2}},\"shapedefaults\":{\"line\":{\"color\":\"#f2f5fa\"}},\"annotationdefaults\":{\"arrowcolor\":\"#f2f5fa\",\"arrowhead\":0,\"arrowwidth\":1},\"geo\":{\"bgcolor\":\"rgb(17,17,17)\",\"landcolor\":\"rgb(17,17,17)\",\"subunitcolor\":\"#506784\",\"showland\":true,\"showlakes\":true,\"lakecolor\":\"rgb(17,17,17)\"},\"title\":{\"x\":0.05},\"updatemenudefaults\":{\"bgcolor\":\"#506784\",\"borderwidth\":0},\"sliderdefaults\":{\"bgcolor\":\"#C8D4E3\",\"borderwidth\":1,\"bordercolor\":\"rgb(17,17,17)\",\"tickwidth\":0},\"mapbox\":{\"style\":\"dark\"}}},\"xaxis\":{\"anchor\":\"y\",\"domain\":[0.0,1.0],\"type\":\"date\"},\"yaxis\":{\"anchor\":\"x\",\"domain\":[0.0,1.0],\"title\":{\"text\":\"id\"}},\"legend\":{\"tracegroupgap\":0},\"title\":{\"text\":\"File Timeline\"},\"barmode\":\"overlay\",\"height\":400},                        {\"responsive\": true}                    ).then(function(){\n",
       "                            \n",
       "var gd = document.getElementById('eca7f4d7-7750-4050-9097-d9f5a6865469');\n",
       "var x = new MutationObserver(function (mutations, observer) {{\n",
       "        var display = window.getComputedStyle(gd).display;\n",
       "        if (!display || display === 'none') {{\n",
       "            console.log([gd, 'removed!']);\n",
       "            Plotly.purge(gd);\n",
       "            observer.disconnect();\n",
       "        }}\n",
       "}});\n",
       "\n",
       "// Listen for the removal of the full notebook cells\n",
       "var notebookContainer = gd.closest('#notebook-container');\n",
       "if (notebookContainer) {{\n",
       "    x.observe(notebookContainer, {childList: true});\n",
       "}}\n",
       "\n",
       "// Listen for the clearing of the current output cell\n",
       "var outputEl = gd.closest('.output');\n",
       "if (outputEl) {{\n",
       "    x.observe(outputEl, {childList: true});\n",
       "}}\n",
       "\n",
       "                        })                };                });            </script>        </div>"
      ]
     },
     "metadata": {},
     "output_type": "display_data"
    }
   ],
   "execution_count": 9
  },
  {
   "metadata": {
    "ExecuteTime": {
     "end_time": "2024-08-14T22:28:10.950672Z",
     "start_time": "2024-08-14T22:28:10.842893Z"
    }
   },
   "cell_type": "code",
   "source": [
    "#from typing import List\n",
    "from scripts.time_utils import StartEndLogTimeProcessor\n",
    "import glob\n",
    "\n",
    "# Test timestamp sequence\n",
    "import os\n",
    "import glob\n",
    "from datetime import datetime\n",
    "\n",
    "data_dir = os.path.join(os.getcwd(), '../datasets/dev/dev_tests')\n",
    "att_data_dir = os.path.join(data_dir, 'att')\n",
    "verizon_data_dir = os.path.join(data_dir, 'verizon')\n",
    "tmobile_data_dir = os.path.join(data_dir, 'tmobile')\n",
    "starlink_data_dir = os.path.join(data_dir, 'starlink')\n",
    "\n",
    "\n",
    "def dir(base, file_path):\n",
    "    return os.path.join(base, file_path)\n",
    "\n",
    "def second_diff(start_ts: datetime, end_ts: datetime):\n",
    "    return (end_ts - start_ts).total_seconds()\n",
    "        \n",
    "\n",
    "def get_start_end_time_sequences(id, test_1_path):\n",
    "    test_1_file_patterns = [\n",
    "        'tcp_downlink*',\n",
    "        'tcp_uplink*',\n",
    "        'ping*',\n",
    "        'udp_downlink*',\n",
    "        'udp_uplink*',\n",
    "        'ping*',\n",
    "        'traceroute*',\n",
    "        'nslookup*',\n",
    "    ]\n",
    "\n",
    "    test_1_files = []\n",
    "    for pattern in test_1_file_patterns:\n",
    "        test_1_files.extend(glob.glob(dir(test_1_path, pattern)))\n",
    "\n",
    "    test_1_seq = []\n",
    "    for i, file in enumerate(test_1_files):\n",
    "        f = open(file, 'r')\n",
    "        res = StartEndLogTimeProcessor.get_start_end_time_from_log(f.read(), timezone_str='US/Eastern')\n",
    "        start_t, end_t = res[0]\n",
    "        test_1_seq.append({\n",
    "            'id': id,\n",
    "            'start_t': start_t,\n",
    "            'end_t': end_t,\n",
    "            'text': f'{second_diff(start_ts=start_t, end_ts=end_t)}s',\n",
    "            'file': test_1_file_patterns[i],\n",
    "        })\n",
    "\n",
    "    return test_1_seq\n",
    "\n",
    "\n",
    "att_seq = get_start_end_time_sequences(\n",
    "    id='att',\n",
    "    test_1_path=dir(att_data_dir, '20240814/180721206'),\n",
    ")\n",
    "verizon_seq = get_start_end_time_sequences(\n",
    "    id='verizon',\n",
    "    test_1_path=dir(verizon_data_dir, '20240814/180720623'),\n",
    ")\n",
    "tmobile_seq = get_start_end_time_sequences(\n",
    "    id='tmobile',\n",
    "    test_1_path=dir(tmobile_data_dir, '20240814/180721499'),\n",
    ")\n",
    "starlink_seq = get_start_end_time_sequences(\n",
    "    id='starlink',\n",
    "    test_1_path=dir(starlink_data_dir, '20240814/180721319'),\n",
    ")\n",
    "\n",
    "# print the total duration\n",
    "def total_duration(seq):\n",
    "    return (seq[-1]['end_t'] - seq[0]['start_t']).total_seconds()\n",
    "\n",
    "print(f'att test duration: {total_duration(att_seq)}s')\n",
    "print(f'verizon test duration: {total_duration(verizon_seq)}s')\n",
    "print(f'tmobile test duration: {total_duration(tmobile_seq)}s')\n",
    "print(f'starlink test duration: {total_duration(starlink_seq)}s')\n",
    "\n",
    "# time diff between att and verizon\n",
    "def print_time_diff(seq1, seq2):\n",
    "    for seq1_item, seq2_item in zip(seq1, seq2):\n",
    "        print(f'{seq1_item[\"file\"]} time diff: {second_diff(start_ts=seq1_item[\"end_t\"], end_ts=seq2_item[\"end_t\"])}s')\n",
    "        \n",
    "        \n",
    "# print_time_diff([*test_1_seq, *test_2_seq], [*test_3_seq, *test_4_seq])\n",
    "# visualize the time sequence\n",
    "\n",
    "import plotly.express as px\n",
    "import pandas as pd\n",
    "from datetime import datetime\n",
    "\n",
    "\n",
    "def visualize_sequence(data: List[dict]):\n",
    "    # Convert to DataFrame\n",
    "    df = pd.DataFrame(data)\n",
    "\n",
    "    # Convert string times to datetime objects\n",
    "    df['start_t'] = pd.to_datetime(df['start_t'])\n",
    "    df['end_t'] = pd.to_datetime(df['end_t'])\n",
    "\n",
    "    # Create the Gantt chart\n",
    "    fig = px.timeline(df,\n",
    "                      x_start='start_t',\n",
    "                      x_end='end_t',\n",
    "                      y='id',\n",
    "                      text='text',\n",
    "                      title='File Timeline')\n",
    "    \n",
    "    # shorten the height of bars\n",
    "    \n",
    "\n",
    "    # Update layout for better readability\n",
    "    fig.update_layout(\n",
    "        height=400,\n",
    "    )\n",
    "\n",
    "    # Show the plot\n",
    "    fig.show()\n",
    "\n",
    "\n",
    "visualize_sequence([*tmobile_seq, *att_seq, *verizon_seq, *starlink_seq])"
   ],
   "id": "5bb41a5b486f6aa7",
   "outputs": [
    {
     "name": "stdout",
     "output_type": "stream",
     "text": [
      "att test duration: 591.357s\n",
      "verizon test duration: 537.819s\n",
      "tmobile test duration: 581.943s\n",
      "starlink test duration: 540.913s\n"
     ]
    },
    {
     "data": {
      "application/vnd.plotly.v1+json": {
       "data": [
        {
         "alignmentgroup": "True",
         "base": [
          "2024-08-14T18:07:21.525000-04:00",
          "2024-08-14T18:09:35.741000-04:00",
          "2024-08-14T18:11:48.587000-04:00",
          "2024-08-14T18:12:20.812000-04:00",
          "2024-08-14T18:14:25.884000-04:00",
          "2024-08-14T18:11:48.587000-04:00",
          "2024-08-14T18:16:30.914000-04:00",
          "2024-08-14T18:17:03.236000-04:00",
          "2024-08-14T18:07:21.230000-04:00",
          "2024-08-14T18:09:43.526000-04:00",
          "2024-08-14T18:12:02.677000-04:00",
          "2024-08-14T18:12:34.968000-04:00",
          "2024-08-14T18:14:57.220000-04:00",
          "2024-08-14T18:12:02.677000-04:00",
          "2024-08-14T18:17:02.139000-04:00",
          "2024-08-14T18:17:12.321000-04:00",
          "2024-08-14T18:07:20.655000-04:00",
          "2024-08-14T18:09:26.077000-04:00",
          "2024-08-14T18:11:32.652000-04:00",
          "2024-08-14T18:12:04.925000-04:00",
          "2024-08-14T18:14:08.874000-04:00",
          "2024-08-14T18:11:32.652000-04:00",
          "2024-08-14T18:16:13.773000-04:00",
          "2024-08-14T18:16:18.239000-04:00",
          "2024-08-14T18:07:21.336000-04:00",
          "2024-08-14T18:09:32.688000-04:00",
          "2024-08-14T18:11:36.988000-04:00",
          "2024-08-14T18:12:09.242000-04:00",
          "2024-08-14T18:14:12.961000-04:00",
          "2024-08-14T18:11:36.988000-04:00",
          "2024-08-14T18:16:17.859000-04:00",
          "2024-08-14T18:16:21.994000-04:00"
         ],
         "hovertemplate": "start_t=%{base}<br>end_t=%{x}<br>id=%{y}<br>text=%{text}<extra></extra>",
         "legendgroup": "",
         "marker": {
          "color": "#636efa",
          "pattern": {
           "shape": ""
          }
         },
         "name": "",
         "offsetgroup": "",
         "orientation": "h",
         "showlegend": false,
         "text": [
          "132.06s",
          "130.745s",
          "30.115s",
          "122.946s",
          "122.887s",
          "30.115s",
          "30.189s",
          "0.232s",
          "140.125s",
          "137.005s",
          "30.166s",
          "140.102s",
          "122.79s",
          "30.166s",
          "8.001s",
          "0.266s",
          "123.298s",
          "124.456s",
          "30.162s",
          "121.809s",
          "122.768s",
          "30.162s",
          "2.306s",
          "0.235s",
          "129.184s",
          "122.186s",
          "30.154s",
          "121.575s",
          "122.758s",
          "30.154s",
          "2.002s",
          "0.255s"
         ],
         "textposition": "auto",
         "x": [
          132060.0,
          130745.0,
          30115.0,
          122946.0,
          122887.0,
          30115.0,
          30189.0,
          232.0,
          140125.0,
          137005.0,
          30166.0,
          140102.0,
          122790.0,
          30166.0,
          8001.0,
          266.0,
          123298.0,
          124456.0,
          30162.0,
          121809.0,
          122768.0,
          30162.0,
          2306.0,
          235.0,
          129184.0,
          122186.0,
          30154.0,
          121575.0,
          122758.0,
          30154.0,
          2002.0,
          255.0
         ],
         "xaxis": "x",
         "y": [
          "tmobile",
          "tmobile",
          "tmobile",
          "tmobile",
          "tmobile",
          "tmobile",
          "tmobile",
          "tmobile",
          "att",
          "att",
          "att",
          "att",
          "att",
          "att",
          "att",
          "att",
          "verizon",
          "verizon",
          "verizon",
          "verizon",
          "verizon",
          "verizon",
          "verizon",
          "verizon",
          "starlink",
          "starlink",
          "starlink",
          "starlink",
          "starlink",
          "starlink",
          "starlink",
          "starlink"
         ],
         "yaxis": "y",
         "type": "bar"
        }
       ],
       "layout": {
        "template": {
         "data": {
          "histogram2dcontour": [
           {
            "type": "histogram2dcontour",
            "colorbar": {
             "outlinewidth": 0,
             "ticks": ""
            },
            "colorscale": [
             [
              0.0,
              "#0d0887"
             ],
             [
              0.1111111111111111,
              "#46039f"
             ],
             [
              0.2222222222222222,
              "#7201a8"
             ],
             [
              0.3333333333333333,
              "#9c179e"
             ],
             [
              0.4444444444444444,
              "#bd3786"
             ],
             [
              0.5555555555555556,
              "#d8576b"
             ],
             [
              0.6666666666666666,
              "#ed7953"
             ],
             [
              0.7777777777777778,
              "#fb9f3a"
             ],
             [
              0.8888888888888888,
              "#fdca26"
             ],
             [
              1.0,
              "#f0f921"
             ]
            ]
           }
          ],
          "choropleth": [
           {
            "type": "choropleth",
            "colorbar": {
             "outlinewidth": 0,
             "ticks": ""
            }
           }
          ],
          "histogram2d": [
           {
            "type": "histogram2d",
            "colorbar": {
             "outlinewidth": 0,
             "ticks": ""
            },
            "colorscale": [
             [
              0.0,
              "#0d0887"
             ],
             [
              0.1111111111111111,
              "#46039f"
             ],
             [
              0.2222222222222222,
              "#7201a8"
             ],
             [
              0.3333333333333333,
              "#9c179e"
             ],
             [
              0.4444444444444444,
              "#bd3786"
             ],
             [
              0.5555555555555556,
              "#d8576b"
             ],
             [
              0.6666666666666666,
              "#ed7953"
             ],
             [
              0.7777777777777778,
              "#fb9f3a"
             ],
             [
              0.8888888888888888,
              "#fdca26"
             ],
             [
              1.0,
              "#f0f921"
             ]
            ]
           }
          ],
          "heatmap": [
           {
            "type": "heatmap",
            "colorbar": {
             "outlinewidth": 0,
             "ticks": ""
            },
            "colorscale": [
             [
              0.0,
              "#0d0887"
             ],
             [
              0.1111111111111111,
              "#46039f"
             ],
             [
              0.2222222222222222,
              "#7201a8"
             ],
             [
              0.3333333333333333,
              "#9c179e"
             ],
             [
              0.4444444444444444,
              "#bd3786"
             ],
             [
              0.5555555555555556,
              "#d8576b"
             ],
             [
              0.6666666666666666,
              "#ed7953"
             ],
             [
              0.7777777777777778,
              "#fb9f3a"
             ],
             [
              0.8888888888888888,
              "#fdca26"
             ],
             [
              1.0,
              "#f0f921"
             ]
            ]
           }
          ],
          "heatmapgl": [
           {
            "type": "heatmapgl",
            "colorbar": {
             "outlinewidth": 0,
             "ticks": ""
            },
            "colorscale": [
             [
              0.0,
              "#0d0887"
             ],
             [
              0.1111111111111111,
              "#46039f"
             ],
             [
              0.2222222222222222,
              "#7201a8"
             ],
             [
              0.3333333333333333,
              "#9c179e"
             ],
             [
              0.4444444444444444,
              "#bd3786"
             ],
             [
              0.5555555555555556,
              "#d8576b"
             ],
             [
              0.6666666666666666,
              "#ed7953"
             ],
             [
              0.7777777777777778,
              "#fb9f3a"
             ],
             [
              0.8888888888888888,
              "#fdca26"
             ],
             [
              1.0,
              "#f0f921"
             ]
            ]
           }
          ],
          "contourcarpet": [
           {
            "type": "contourcarpet",
            "colorbar": {
             "outlinewidth": 0,
             "ticks": ""
            }
           }
          ],
          "contour": [
           {
            "type": "contour",
            "colorbar": {
             "outlinewidth": 0,
             "ticks": ""
            },
            "colorscale": [
             [
              0.0,
              "#0d0887"
             ],
             [
              0.1111111111111111,
              "#46039f"
             ],
             [
              0.2222222222222222,
              "#7201a8"
             ],
             [
              0.3333333333333333,
              "#9c179e"
             ],
             [
              0.4444444444444444,
              "#bd3786"
             ],
             [
              0.5555555555555556,
              "#d8576b"
             ],
             [
              0.6666666666666666,
              "#ed7953"
             ],
             [
              0.7777777777777778,
              "#fb9f3a"
             ],
             [
              0.8888888888888888,
              "#fdca26"
             ],
             [
              1.0,
              "#f0f921"
             ]
            ]
           }
          ],
          "surface": [
           {
            "type": "surface",
            "colorbar": {
             "outlinewidth": 0,
             "ticks": ""
            },
            "colorscale": [
             [
              0.0,
              "#0d0887"
             ],
             [
              0.1111111111111111,
              "#46039f"
             ],
             [
              0.2222222222222222,
              "#7201a8"
             ],
             [
              0.3333333333333333,
              "#9c179e"
             ],
             [
              0.4444444444444444,
              "#bd3786"
             ],
             [
              0.5555555555555556,
              "#d8576b"
             ],
             [
              0.6666666666666666,
              "#ed7953"
             ],
             [
              0.7777777777777778,
              "#fb9f3a"
             ],
             [
              0.8888888888888888,
              "#fdca26"
             ],
             [
              1.0,
              "#f0f921"
             ]
            ]
           }
          ],
          "mesh3d": [
           {
            "type": "mesh3d",
            "colorbar": {
             "outlinewidth": 0,
             "ticks": ""
            }
           }
          ],
          "scatter": [
           {
            "marker": {
             "line": {
              "color": "#283442"
             }
            },
            "type": "scatter"
           }
          ],
          "parcoords": [
           {
            "type": "parcoords",
            "line": {
             "colorbar": {
              "outlinewidth": 0,
              "ticks": ""
             }
            }
           }
          ],
          "scatterpolargl": [
           {
            "type": "scatterpolargl",
            "marker": {
             "colorbar": {
              "outlinewidth": 0,
              "ticks": ""
             }
            }
           }
          ],
          "bar": [
           {
            "error_x": {
             "color": "#f2f5fa"
            },
            "error_y": {
             "color": "#f2f5fa"
            },
            "marker": {
             "line": {
              "color": "rgb(17,17,17)",
              "width": 0.5
             },
             "pattern": {
              "fillmode": "overlay",
              "size": 10,
              "solidity": 0.2
             }
            },
            "type": "bar"
           }
          ],
          "scattergeo": [
           {
            "type": "scattergeo",
            "marker": {
             "colorbar": {
              "outlinewidth": 0,
              "ticks": ""
             }
            }
           }
          ],
          "scatterpolar": [
           {
            "type": "scatterpolar",
            "marker": {
             "colorbar": {
              "outlinewidth": 0,
              "ticks": ""
             }
            }
           }
          ],
          "histogram": [
           {
            "marker": {
             "pattern": {
              "fillmode": "overlay",
              "size": 10,
              "solidity": 0.2
             }
            },
            "type": "histogram"
           }
          ],
          "scattergl": [
           {
            "marker": {
             "line": {
              "color": "#283442"
             }
            },
            "type": "scattergl"
           }
          ],
          "scatter3d": [
           {
            "type": "scatter3d",
            "line": {
             "colorbar": {
              "outlinewidth": 0,
              "ticks": ""
             }
            },
            "marker": {
             "colorbar": {
              "outlinewidth": 0,
              "ticks": ""
             }
            }
           }
          ],
          "scattermapbox": [
           {
            "type": "scattermapbox",
            "marker": {
             "colorbar": {
              "outlinewidth": 0,
              "ticks": ""
             }
            }
           }
          ],
          "scatterternary": [
           {
            "type": "scatterternary",
            "marker": {
             "colorbar": {
              "outlinewidth": 0,
              "ticks": ""
             }
            }
           }
          ],
          "scattercarpet": [
           {
            "type": "scattercarpet",
            "marker": {
             "colorbar": {
              "outlinewidth": 0,
              "ticks": ""
             }
            }
           }
          ],
          "carpet": [
           {
            "aaxis": {
             "endlinecolor": "#A2B1C6",
             "gridcolor": "#506784",
             "linecolor": "#506784",
             "minorgridcolor": "#506784",
             "startlinecolor": "#A2B1C6"
            },
            "baxis": {
             "endlinecolor": "#A2B1C6",
             "gridcolor": "#506784",
             "linecolor": "#506784",
             "minorgridcolor": "#506784",
             "startlinecolor": "#A2B1C6"
            },
            "type": "carpet"
           }
          ],
          "table": [
           {
            "cells": {
             "fill": {
              "color": "#506784"
             },
             "line": {
              "color": "rgb(17,17,17)"
             }
            },
            "header": {
             "fill": {
              "color": "#2a3f5f"
             },
             "line": {
              "color": "rgb(17,17,17)"
             }
            },
            "type": "table"
           }
          ],
          "barpolar": [
           {
            "marker": {
             "line": {
              "color": "rgb(17,17,17)",
              "width": 0.5
             },
             "pattern": {
              "fillmode": "overlay",
              "size": 10,
              "solidity": 0.2
             }
            },
            "type": "barpolar"
           }
          ],
          "pie": [
           {
            "automargin": true,
            "type": "pie"
           }
          ]
         },
         "layout": {
          "autotypenumbers": "strict",
          "colorway": [
           "#636efa",
           "#EF553B",
           "#00cc96",
           "#ab63fa",
           "#FFA15A",
           "#19d3f3",
           "#FF6692",
           "#B6E880",
           "#FF97FF",
           "#FECB52"
          ],
          "font": {
           "color": "#f2f5fa"
          },
          "hovermode": "closest",
          "hoverlabel": {
           "align": "left"
          },
          "paper_bgcolor": "rgb(17,17,17)",
          "plot_bgcolor": "rgb(17,17,17)",
          "polar": {
           "bgcolor": "rgb(17,17,17)",
           "angularaxis": {
            "gridcolor": "#506784",
            "linecolor": "#506784",
            "ticks": ""
           },
           "radialaxis": {
            "gridcolor": "#506784",
            "linecolor": "#506784",
            "ticks": ""
           }
          },
          "ternary": {
           "bgcolor": "rgb(17,17,17)",
           "aaxis": {
            "gridcolor": "#506784",
            "linecolor": "#506784",
            "ticks": ""
           },
           "baxis": {
            "gridcolor": "#506784",
            "linecolor": "#506784",
            "ticks": ""
           },
           "caxis": {
            "gridcolor": "#506784",
            "linecolor": "#506784",
            "ticks": ""
           }
          },
          "coloraxis": {
           "colorbar": {
            "outlinewidth": 0,
            "ticks": ""
           }
          },
          "colorscale": {
           "sequential": [
            [
             0.0,
             "#0d0887"
            ],
            [
             0.1111111111111111,
             "#46039f"
            ],
            [
             0.2222222222222222,
             "#7201a8"
            ],
            [
             0.3333333333333333,
             "#9c179e"
            ],
            [
             0.4444444444444444,
             "#bd3786"
            ],
            [
             0.5555555555555556,
             "#d8576b"
            ],
            [
             0.6666666666666666,
             "#ed7953"
            ],
            [
             0.7777777777777778,
             "#fb9f3a"
            ],
            [
             0.8888888888888888,
             "#fdca26"
            ],
            [
             1.0,
             "#f0f921"
            ]
           ],
           "sequentialminus": [
            [
             0.0,
             "#0d0887"
            ],
            [
             0.1111111111111111,
             "#46039f"
            ],
            [
             0.2222222222222222,
             "#7201a8"
            ],
            [
             0.3333333333333333,
             "#9c179e"
            ],
            [
             0.4444444444444444,
             "#bd3786"
            ],
            [
             0.5555555555555556,
             "#d8576b"
            ],
            [
             0.6666666666666666,
             "#ed7953"
            ],
            [
             0.7777777777777778,
             "#fb9f3a"
            ],
            [
             0.8888888888888888,
             "#fdca26"
            ],
            [
             1.0,
             "#f0f921"
            ]
           ],
           "diverging": [
            [
             0,
             "#8e0152"
            ],
            [
             0.1,
             "#c51b7d"
            ],
            [
             0.2,
             "#de77ae"
            ],
            [
             0.3,
             "#f1b6da"
            ],
            [
             0.4,
             "#fde0ef"
            ],
            [
             0.5,
             "#f7f7f7"
            ],
            [
             0.6,
             "#e6f5d0"
            ],
            [
             0.7,
             "#b8e186"
            ],
            [
             0.8,
             "#7fbc41"
            ],
            [
             0.9,
             "#4d9221"
            ],
            [
             1,
             "#276419"
            ]
           ]
          },
          "xaxis": {
           "gridcolor": "#283442",
           "linecolor": "#506784",
           "ticks": "",
           "title": {
            "standoff": 15
           },
           "zerolinecolor": "#283442",
           "automargin": true,
           "zerolinewidth": 2
          },
          "yaxis": {
           "gridcolor": "#283442",
           "linecolor": "#506784",
           "ticks": "",
           "title": {
            "standoff": 15
           },
           "zerolinecolor": "#283442",
           "automargin": true,
           "zerolinewidth": 2
          },
          "scene": {
           "xaxis": {
            "backgroundcolor": "rgb(17,17,17)",
            "gridcolor": "#506784",
            "linecolor": "#506784",
            "showbackground": true,
            "ticks": "",
            "zerolinecolor": "#C8D4E3",
            "gridwidth": 2
           },
           "yaxis": {
            "backgroundcolor": "rgb(17,17,17)",
            "gridcolor": "#506784",
            "linecolor": "#506784",
            "showbackground": true,
            "ticks": "",
            "zerolinecolor": "#C8D4E3",
            "gridwidth": 2
           },
           "zaxis": {
            "backgroundcolor": "rgb(17,17,17)",
            "gridcolor": "#506784",
            "linecolor": "#506784",
            "showbackground": true,
            "ticks": "",
            "zerolinecolor": "#C8D4E3",
            "gridwidth": 2
           }
          },
          "shapedefaults": {
           "line": {
            "color": "#f2f5fa"
           }
          },
          "annotationdefaults": {
           "arrowcolor": "#f2f5fa",
           "arrowhead": 0,
           "arrowwidth": 1
          },
          "geo": {
           "bgcolor": "rgb(17,17,17)",
           "landcolor": "rgb(17,17,17)",
           "subunitcolor": "#506784",
           "showland": true,
           "showlakes": true,
           "lakecolor": "rgb(17,17,17)"
          },
          "title": {
           "x": 0.05
          },
          "updatemenudefaults": {
           "bgcolor": "#506784",
           "borderwidth": 0
          },
          "sliderdefaults": {
           "bgcolor": "#C8D4E3",
           "borderwidth": 1,
           "bordercolor": "rgb(17,17,17)",
           "tickwidth": 0
          },
          "mapbox": {
           "style": "dark"
          }
         }
        },
        "xaxis": {
         "anchor": "y",
         "domain": [
          0.0,
          1.0
         ],
         "type": "date"
        },
        "yaxis": {
         "anchor": "x",
         "domain": [
          0.0,
          1.0
         ],
         "title": {
          "text": "id"
         }
        },
        "legend": {
         "tracegroupgap": 0
        },
        "title": {
         "text": "File Timeline"
        },
        "barmode": "overlay",
        "height": 400
       },
       "config": {
        "plotlyServerURL": "https://plot.ly"
       }
      },
      "text/html": [
       "<div>                            <div id=\"c82b5523-e61d-46b8-b5bd-4e4b10d2e61f\" class=\"plotly-graph-div\" style=\"height:400px; width:100%;\"></div>            <script type=\"text/javascript\">                require([\"plotly\"], function(Plotly) {                    window.PLOTLYENV=window.PLOTLYENV || {};                                    if (document.getElementById(\"c82b5523-e61d-46b8-b5bd-4e4b10d2e61f\")) {                    Plotly.newPlot(                        \"c82b5523-e61d-46b8-b5bd-4e4b10d2e61f\",                        [{\"alignmentgroup\":\"True\",\"base\":[\"2024-08-14T18:07:21.525000-04:00\",\"2024-08-14T18:09:35.741000-04:00\",\"2024-08-14T18:11:48.587000-04:00\",\"2024-08-14T18:12:20.812000-04:00\",\"2024-08-14T18:14:25.884000-04:00\",\"2024-08-14T18:11:48.587000-04:00\",\"2024-08-14T18:16:30.914000-04:00\",\"2024-08-14T18:17:03.236000-04:00\",\"2024-08-14T18:07:21.230000-04:00\",\"2024-08-14T18:09:43.526000-04:00\",\"2024-08-14T18:12:02.677000-04:00\",\"2024-08-14T18:12:34.968000-04:00\",\"2024-08-14T18:14:57.220000-04:00\",\"2024-08-14T18:12:02.677000-04:00\",\"2024-08-14T18:17:02.139000-04:00\",\"2024-08-14T18:17:12.321000-04:00\",\"2024-08-14T18:07:20.655000-04:00\",\"2024-08-14T18:09:26.077000-04:00\",\"2024-08-14T18:11:32.652000-04:00\",\"2024-08-14T18:12:04.925000-04:00\",\"2024-08-14T18:14:08.874000-04:00\",\"2024-08-14T18:11:32.652000-04:00\",\"2024-08-14T18:16:13.773000-04:00\",\"2024-08-14T18:16:18.239000-04:00\",\"2024-08-14T18:07:21.336000-04:00\",\"2024-08-14T18:09:32.688000-04:00\",\"2024-08-14T18:11:36.988000-04:00\",\"2024-08-14T18:12:09.242000-04:00\",\"2024-08-14T18:14:12.961000-04:00\",\"2024-08-14T18:11:36.988000-04:00\",\"2024-08-14T18:16:17.859000-04:00\",\"2024-08-14T18:16:21.994000-04:00\"],\"hovertemplate\":\"start_t=%{base}\\u003cbr\\u003eend_t=%{x}\\u003cbr\\u003eid=%{y}\\u003cbr\\u003etext=%{text}\\u003cextra\\u003e\\u003c\\u002fextra\\u003e\",\"legendgroup\":\"\",\"marker\":{\"color\":\"#636efa\",\"pattern\":{\"shape\":\"\"}},\"name\":\"\",\"offsetgroup\":\"\",\"orientation\":\"h\",\"showlegend\":false,\"text\":[\"132.06s\",\"130.745s\",\"30.115s\",\"122.946s\",\"122.887s\",\"30.115s\",\"30.189s\",\"0.232s\",\"140.125s\",\"137.005s\",\"30.166s\",\"140.102s\",\"122.79s\",\"30.166s\",\"8.001s\",\"0.266s\",\"123.298s\",\"124.456s\",\"30.162s\",\"121.809s\",\"122.768s\",\"30.162s\",\"2.306s\",\"0.235s\",\"129.184s\",\"122.186s\",\"30.154s\",\"121.575s\",\"122.758s\",\"30.154s\",\"2.002s\",\"0.255s\"],\"textposition\":\"auto\",\"x\":[132060.0,130745.0,30115.0,122946.0,122887.0,30115.0,30189.0,232.0,140125.0,137005.0,30166.0,140102.0,122790.0,30166.0,8001.0,266.0,123298.0,124456.0,30162.0,121809.0,122768.0,30162.0,2306.0,235.0,129184.0,122186.0,30154.0,121575.0,122758.0,30154.0,2002.0,255.0],\"xaxis\":\"x\",\"y\":[\"tmobile\",\"tmobile\",\"tmobile\",\"tmobile\",\"tmobile\",\"tmobile\",\"tmobile\",\"tmobile\",\"att\",\"att\",\"att\",\"att\",\"att\",\"att\",\"att\",\"att\",\"verizon\",\"verizon\",\"verizon\",\"verizon\",\"verizon\",\"verizon\",\"verizon\",\"verizon\",\"starlink\",\"starlink\",\"starlink\",\"starlink\",\"starlink\",\"starlink\",\"starlink\",\"starlink\"],\"yaxis\":\"y\",\"type\":\"bar\"}],                        {\"template\":{\"data\":{\"histogram2dcontour\":[{\"type\":\"histogram2dcontour\",\"colorbar\":{\"outlinewidth\":0,\"ticks\":\"\"},\"colorscale\":[[0.0,\"#0d0887\"],[0.1111111111111111,\"#46039f\"],[0.2222222222222222,\"#7201a8\"],[0.3333333333333333,\"#9c179e\"],[0.4444444444444444,\"#bd3786\"],[0.5555555555555556,\"#d8576b\"],[0.6666666666666666,\"#ed7953\"],[0.7777777777777778,\"#fb9f3a\"],[0.8888888888888888,\"#fdca26\"],[1.0,\"#f0f921\"]]}],\"choropleth\":[{\"type\":\"choropleth\",\"colorbar\":{\"outlinewidth\":0,\"ticks\":\"\"}}],\"histogram2d\":[{\"type\":\"histogram2d\",\"colorbar\":{\"outlinewidth\":0,\"ticks\":\"\"},\"colorscale\":[[0.0,\"#0d0887\"],[0.1111111111111111,\"#46039f\"],[0.2222222222222222,\"#7201a8\"],[0.3333333333333333,\"#9c179e\"],[0.4444444444444444,\"#bd3786\"],[0.5555555555555556,\"#d8576b\"],[0.6666666666666666,\"#ed7953\"],[0.7777777777777778,\"#fb9f3a\"],[0.8888888888888888,\"#fdca26\"],[1.0,\"#f0f921\"]]}],\"heatmap\":[{\"type\":\"heatmap\",\"colorbar\":{\"outlinewidth\":0,\"ticks\":\"\"},\"colorscale\":[[0.0,\"#0d0887\"],[0.1111111111111111,\"#46039f\"],[0.2222222222222222,\"#7201a8\"],[0.3333333333333333,\"#9c179e\"],[0.4444444444444444,\"#bd3786\"],[0.5555555555555556,\"#d8576b\"],[0.6666666666666666,\"#ed7953\"],[0.7777777777777778,\"#fb9f3a\"],[0.8888888888888888,\"#fdca26\"],[1.0,\"#f0f921\"]]}],\"heatmapgl\":[{\"type\":\"heatmapgl\",\"colorbar\":{\"outlinewidth\":0,\"ticks\":\"\"},\"colorscale\":[[0.0,\"#0d0887\"],[0.1111111111111111,\"#46039f\"],[0.2222222222222222,\"#7201a8\"],[0.3333333333333333,\"#9c179e\"],[0.4444444444444444,\"#bd3786\"],[0.5555555555555556,\"#d8576b\"],[0.6666666666666666,\"#ed7953\"],[0.7777777777777778,\"#fb9f3a\"],[0.8888888888888888,\"#fdca26\"],[1.0,\"#f0f921\"]]}],\"contourcarpet\":[{\"type\":\"contourcarpet\",\"colorbar\":{\"outlinewidth\":0,\"ticks\":\"\"}}],\"contour\":[{\"type\":\"contour\",\"colorbar\":{\"outlinewidth\":0,\"ticks\":\"\"},\"colorscale\":[[0.0,\"#0d0887\"],[0.1111111111111111,\"#46039f\"],[0.2222222222222222,\"#7201a8\"],[0.3333333333333333,\"#9c179e\"],[0.4444444444444444,\"#bd3786\"],[0.5555555555555556,\"#d8576b\"],[0.6666666666666666,\"#ed7953\"],[0.7777777777777778,\"#fb9f3a\"],[0.8888888888888888,\"#fdca26\"],[1.0,\"#f0f921\"]]}],\"surface\":[{\"type\":\"surface\",\"colorbar\":{\"outlinewidth\":0,\"ticks\":\"\"},\"colorscale\":[[0.0,\"#0d0887\"],[0.1111111111111111,\"#46039f\"],[0.2222222222222222,\"#7201a8\"],[0.3333333333333333,\"#9c179e\"],[0.4444444444444444,\"#bd3786\"],[0.5555555555555556,\"#d8576b\"],[0.6666666666666666,\"#ed7953\"],[0.7777777777777778,\"#fb9f3a\"],[0.8888888888888888,\"#fdca26\"],[1.0,\"#f0f921\"]]}],\"mesh3d\":[{\"type\":\"mesh3d\",\"colorbar\":{\"outlinewidth\":0,\"ticks\":\"\"}}],\"scatter\":[{\"marker\":{\"line\":{\"color\":\"#283442\"}},\"type\":\"scatter\"}],\"parcoords\":[{\"type\":\"parcoords\",\"line\":{\"colorbar\":{\"outlinewidth\":0,\"ticks\":\"\"}}}],\"scatterpolargl\":[{\"type\":\"scatterpolargl\",\"marker\":{\"colorbar\":{\"outlinewidth\":0,\"ticks\":\"\"}}}],\"bar\":[{\"error_x\":{\"color\":\"#f2f5fa\"},\"error_y\":{\"color\":\"#f2f5fa\"},\"marker\":{\"line\":{\"color\":\"rgb(17,17,17)\",\"width\":0.5},\"pattern\":{\"fillmode\":\"overlay\",\"size\":10,\"solidity\":0.2}},\"type\":\"bar\"}],\"scattergeo\":[{\"type\":\"scattergeo\",\"marker\":{\"colorbar\":{\"outlinewidth\":0,\"ticks\":\"\"}}}],\"scatterpolar\":[{\"type\":\"scatterpolar\",\"marker\":{\"colorbar\":{\"outlinewidth\":0,\"ticks\":\"\"}}}],\"histogram\":[{\"marker\":{\"pattern\":{\"fillmode\":\"overlay\",\"size\":10,\"solidity\":0.2}},\"type\":\"histogram\"}],\"scattergl\":[{\"marker\":{\"line\":{\"color\":\"#283442\"}},\"type\":\"scattergl\"}],\"scatter3d\":[{\"type\":\"scatter3d\",\"line\":{\"colorbar\":{\"outlinewidth\":0,\"ticks\":\"\"}},\"marker\":{\"colorbar\":{\"outlinewidth\":0,\"ticks\":\"\"}}}],\"scattermapbox\":[{\"type\":\"scattermapbox\",\"marker\":{\"colorbar\":{\"outlinewidth\":0,\"ticks\":\"\"}}}],\"scatterternary\":[{\"type\":\"scatterternary\",\"marker\":{\"colorbar\":{\"outlinewidth\":0,\"ticks\":\"\"}}}],\"scattercarpet\":[{\"type\":\"scattercarpet\",\"marker\":{\"colorbar\":{\"outlinewidth\":0,\"ticks\":\"\"}}}],\"carpet\":[{\"aaxis\":{\"endlinecolor\":\"#A2B1C6\",\"gridcolor\":\"#506784\",\"linecolor\":\"#506784\",\"minorgridcolor\":\"#506784\",\"startlinecolor\":\"#A2B1C6\"},\"baxis\":{\"endlinecolor\":\"#A2B1C6\",\"gridcolor\":\"#506784\",\"linecolor\":\"#506784\",\"minorgridcolor\":\"#506784\",\"startlinecolor\":\"#A2B1C6\"},\"type\":\"carpet\"}],\"table\":[{\"cells\":{\"fill\":{\"color\":\"#506784\"},\"line\":{\"color\":\"rgb(17,17,17)\"}},\"header\":{\"fill\":{\"color\":\"#2a3f5f\"},\"line\":{\"color\":\"rgb(17,17,17)\"}},\"type\":\"table\"}],\"barpolar\":[{\"marker\":{\"line\":{\"color\":\"rgb(17,17,17)\",\"width\":0.5},\"pattern\":{\"fillmode\":\"overlay\",\"size\":10,\"solidity\":0.2}},\"type\":\"barpolar\"}],\"pie\":[{\"automargin\":true,\"type\":\"pie\"}]},\"layout\":{\"autotypenumbers\":\"strict\",\"colorway\":[\"#636efa\",\"#EF553B\",\"#00cc96\",\"#ab63fa\",\"#FFA15A\",\"#19d3f3\",\"#FF6692\",\"#B6E880\",\"#FF97FF\",\"#FECB52\"],\"font\":{\"color\":\"#f2f5fa\"},\"hovermode\":\"closest\",\"hoverlabel\":{\"align\":\"left\"},\"paper_bgcolor\":\"rgb(17,17,17)\",\"plot_bgcolor\":\"rgb(17,17,17)\",\"polar\":{\"bgcolor\":\"rgb(17,17,17)\",\"angularaxis\":{\"gridcolor\":\"#506784\",\"linecolor\":\"#506784\",\"ticks\":\"\"},\"radialaxis\":{\"gridcolor\":\"#506784\",\"linecolor\":\"#506784\",\"ticks\":\"\"}},\"ternary\":{\"bgcolor\":\"rgb(17,17,17)\",\"aaxis\":{\"gridcolor\":\"#506784\",\"linecolor\":\"#506784\",\"ticks\":\"\"},\"baxis\":{\"gridcolor\":\"#506784\",\"linecolor\":\"#506784\",\"ticks\":\"\"},\"caxis\":{\"gridcolor\":\"#506784\",\"linecolor\":\"#506784\",\"ticks\":\"\"}},\"coloraxis\":{\"colorbar\":{\"outlinewidth\":0,\"ticks\":\"\"}},\"colorscale\":{\"sequential\":[[0.0,\"#0d0887\"],[0.1111111111111111,\"#46039f\"],[0.2222222222222222,\"#7201a8\"],[0.3333333333333333,\"#9c179e\"],[0.4444444444444444,\"#bd3786\"],[0.5555555555555556,\"#d8576b\"],[0.6666666666666666,\"#ed7953\"],[0.7777777777777778,\"#fb9f3a\"],[0.8888888888888888,\"#fdca26\"],[1.0,\"#f0f921\"]],\"sequentialminus\":[[0.0,\"#0d0887\"],[0.1111111111111111,\"#46039f\"],[0.2222222222222222,\"#7201a8\"],[0.3333333333333333,\"#9c179e\"],[0.4444444444444444,\"#bd3786\"],[0.5555555555555556,\"#d8576b\"],[0.6666666666666666,\"#ed7953\"],[0.7777777777777778,\"#fb9f3a\"],[0.8888888888888888,\"#fdca26\"],[1.0,\"#f0f921\"]],\"diverging\":[[0,\"#8e0152\"],[0.1,\"#c51b7d\"],[0.2,\"#de77ae\"],[0.3,\"#f1b6da\"],[0.4,\"#fde0ef\"],[0.5,\"#f7f7f7\"],[0.6,\"#e6f5d0\"],[0.7,\"#b8e186\"],[0.8,\"#7fbc41\"],[0.9,\"#4d9221\"],[1,\"#276419\"]]},\"xaxis\":{\"gridcolor\":\"#283442\",\"linecolor\":\"#506784\",\"ticks\":\"\",\"title\":{\"standoff\":15},\"zerolinecolor\":\"#283442\",\"automargin\":true,\"zerolinewidth\":2},\"yaxis\":{\"gridcolor\":\"#283442\",\"linecolor\":\"#506784\",\"ticks\":\"\",\"title\":{\"standoff\":15},\"zerolinecolor\":\"#283442\",\"automargin\":true,\"zerolinewidth\":2},\"scene\":{\"xaxis\":{\"backgroundcolor\":\"rgb(17,17,17)\",\"gridcolor\":\"#506784\",\"linecolor\":\"#506784\",\"showbackground\":true,\"ticks\":\"\",\"zerolinecolor\":\"#C8D4E3\",\"gridwidth\":2},\"yaxis\":{\"backgroundcolor\":\"rgb(17,17,17)\",\"gridcolor\":\"#506784\",\"linecolor\":\"#506784\",\"showbackground\":true,\"ticks\":\"\",\"zerolinecolor\":\"#C8D4E3\",\"gridwidth\":2},\"zaxis\":{\"backgroundcolor\":\"rgb(17,17,17)\",\"gridcolor\":\"#506784\",\"linecolor\":\"#506784\",\"showbackground\":true,\"ticks\":\"\",\"zerolinecolor\":\"#C8D4E3\",\"gridwidth\":2}},\"shapedefaults\":{\"line\":{\"color\":\"#f2f5fa\"}},\"annotationdefaults\":{\"arrowcolor\":\"#f2f5fa\",\"arrowhead\":0,\"arrowwidth\":1},\"geo\":{\"bgcolor\":\"rgb(17,17,17)\",\"landcolor\":\"rgb(17,17,17)\",\"subunitcolor\":\"#506784\",\"showland\":true,\"showlakes\":true,\"lakecolor\":\"rgb(17,17,17)\"},\"title\":{\"x\":0.05},\"updatemenudefaults\":{\"bgcolor\":\"#506784\",\"borderwidth\":0},\"sliderdefaults\":{\"bgcolor\":\"#C8D4E3\",\"borderwidth\":1,\"bordercolor\":\"rgb(17,17,17)\",\"tickwidth\":0},\"mapbox\":{\"style\":\"dark\"}}},\"xaxis\":{\"anchor\":\"y\",\"domain\":[0.0,1.0],\"type\":\"date\"},\"yaxis\":{\"anchor\":\"x\",\"domain\":[0.0,1.0],\"title\":{\"text\":\"id\"}},\"legend\":{\"tracegroupgap\":0},\"title\":{\"text\":\"File Timeline\"},\"barmode\":\"overlay\",\"height\":400},                        {\"responsive\": true}                    ).then(function(){\n",
       "                            \n",
       "var gd = document.getElementById('c82b5523-e61d-46b8-b5bd-4e4b10d2e61f');\n",
       "var x = new MutationObserver(function (mutations, observer) {{\n",
       "        var display = window.getComputedStyle(gd).display;\n",
       "        if (!display || display === 'none') {{\n",
       "            console.log([gd, 'removed!']);\n",
       "            Plotly.purge(gd);\n",
       "            observer.disconnect();\n",
       "        }}\n",
       "}});\n",
       "\n",
       "// Listen for the removal of the full notebook cells\n",
       "var notebookContainer = gd.closest('#notebook-container');\n",
       "if (notebookContainer) {{\n",
       "    x.observe(notebookContainer, {childList: true});\n",
       "}}\n",
       "\n",
       "// Listen for the clearing of the current output cell\n",
       "var outputEl = gd.closest('.output');\n",
       "if (outputEl) {{\n",
       "    x.observe(outputEl, {childList: true});\n",
       "}}\n",
       "\n",
       "                        })                };                });            </script>        </div>"
      ]
     },
     "metadata": {},
     "output_type": "display_data"
    }
   ],
   "execution_count": 10
  },
  {
   "metadata": {},
   "cell_type": "code",
   "outputs": [],
   "execution_count": null,
   "source": "",
   "id": "fd27e56ebf31f320"
  }
 ],
 "metadata": {
  "kernelspec": {
   "display_name": "Python 3",
   "language": "python",
   "name": "python3"
  },
  "language_info": {
   "codemirror_mode": {
    "name": "ipython",
    "version": 2
   },
   "file_extension": ".py",
   "mimetype": "text/x-python",
   "name": "python",
   "nbconvert_exporter": "python",
   "pygments_lexer": "ipython2",
   "version": "2.7.6"
  }
 },
 "nbformat": 4,
 "nbformat_minor": 5
}
