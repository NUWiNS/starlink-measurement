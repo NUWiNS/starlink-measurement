{
 "cells": [
  {
   "cell_type": "code",
   "execution_count": 5,
   "metadata": {},
   "outputs": [
    {
     "name": "stdout",
     "output_type": "stream",
     "text": [
      "outage_duration in min 43.997524752050005\n",
      "outage in hours 0.7332920792008334\n"
     ]
    }
   ],
   "source": [
    "import json\n",
    "import pandas as pd\n",
    "\n",
    "headers = []\n",
    "data = []\n",
    "\n",
    "def parse_line(line):\n",
    "  return list(map(lambda x: x.strip(), line.split('|')))\n",
    "\n",
    "with open('../outputs/dish_history.20240522_114229.log', 'r') as f:\n",
    "  for index, line in enumerate(f):\n",
    "    row = parse_line(line)\n",
    "    if index == 0:\n",
    "      headers.extend(row)\n",
    "    else:\n",
    "      data.append(row)\n",
    "\n",
    "json_data = json.loads(data[0][1])\n",
    "\n",
    "pass\n",
    "\n",
    "outages = json_data['dishGetHistory']['outages']\n",
    "# calculate time difference between start and end\n",
    "outage_start_time = outages[0]['startTimestampNs']\n",
    "outage_end_time = outages[-1]['startTimestampNs']\n",
    "outage_duration = int(outage_end_time) - int(outage_start_time)\n",
    "# print in minutes\n",
    "outage_duration = outage_duration / 1000000000 / 60\n",
    "print('outage_duration in min', outage_duration)\n",
    "print('outage in hours', outage_duration / 60)\n",
    "\n",
    "# df = pd.DataFrame(data, columns=headers)\n",
    "\n",
    "# df['datetime'] = pd.to_datetime(df['utc_time_micro'], unit='us')\n",
    "# df['datetime'] = df['datetime'].dt.tz_localize('UTC').dt.tz_convert('Etc/GMT+4')\n",
    "\n",
    "# print(df)\n",
    "\n"
   ]
  }
 ],
 "metadata": {
  "kernelspec": {
   "display_name": "data_analyst",
   "language": "python",
   "name": "python3"
  },
  "language_info": {
   "codemirror_mode": {
    "name": "ipython",
    "version": 3
   },
   "file_extension": ".py",
   "mimetype": "text/x-python",
   "name": "python",
   "nbconvert_exporter": "python",
   "pygments_lexer": "ipython3",
   "version": "3.12.2"
  }
 },
 "nbformat": 4,
 "nbformat_minor": 2
}
