{
 "cells": [
  {
   "cell_type": "code",
   "execution_count": 2,
   "metadata": {},
   "outputs": [
    {
     "name": "stdout",
     "output_type": "stream",
     "text": [
      "       time_micro_s                                    status_response\n",
      "0  1716236534166902  {\"id\":\"0\",\"status\":null,\"apiVersion\":\"17\",\"dis...\n",
      "1  1716236535369767  {\"id\":\"0\",\"status\":null,\"apiVersion\":\"17\",\"dis...\n",
      "2  1716236536528137  {\"id\":\"0\",\"status\":null,\"apiVersion\":\"17\",\"dis...\n",
      "3  1716236537696944  {\"id\":\"0\",\"status\":null,\"apiVersion\":\"17\",\"dis...\n",
      "4  1716236538854919  {\"id\":\"0\",\"status\":null,\"apiVersion\":\"17\",\"dis...\n",
      "5  1716236540123150  {\"id\":\"0\",\"status\":null,\"apiVersion\":\"17\",\"dis...\n",
      "6  1716236541357628  {\"id\":\"0\",\"status\":null,\"apiVersion\":\"17\",\"dis...\n",
      "7  1716236542555706  {\"id\":\"0\",\"status\":null,\"apiVersion\":\"17\",\"dis...\n"
     ]
    }
   ],
   "source": [
    "import json\n",
    "import pandas as pd\n",
    "\n",
    "headers = []\n",
    "data = []\n",
    "\n",
    "def parse_line(line):\n",
    "  return list(map(lambda x: x.strip(), line.split('|')))\n",
    "\n",
    "with open('../outputs/dish_status.20240520_162214.log', 'r') as f:\n",
    "  for index, line in enumerate(f):\n",
    "    row = parse_line(line)\n",
    "    # print(line)\n",
    "    if index == 0:\n",
    "      headers.extend(row)\n",
    "    else:\n",
    "      data.append(row)\n",
    "\n",
    "df = pd.DataFrame(data, columns=headers)\n",
    "print(df)\n",
    "\n",
    "\n"
   ]
  }
 ],
 "metadata": {
  "kernelspec": {
   "display_name": "data_analyst",
   "language": "python",
   "name": "python3"
  },
  "language_info": {
   "codemirror_mode": {
    "name": "ipython",
    "version": 3
   },
   "file_extension": ".py",
   "mimetype": "text/x-python",
   "name": "python",
   "nbconvert_exporter": "python",
   "pygments_lexer": "ipython3",
   "version": "3.12.2"
  }
 },
 "nbformat": 4,
 "nbformat_minor": 2
}
