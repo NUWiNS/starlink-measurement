{
 "cells": [
  {
   "cell_type": "code",
   "execution_count": 15,
   "metadata": {},
   "outputs": [
    {
     "name": "stdout",
     "output_type": "stream",
     "text": [
      "0         NaN\n",
      "1     333.204\n",
      "2     308.020\n",
      "3     269.498\n",
      "4     425.793\n",
      "5     280.275\n",
      "6     304.491\n",
      "7     342.708\n",
      "8     270.471\n",
      "9     263.277\n",
      "10    415.051\n",
      "11    239.424\n",
      "12    265.076\n",
      "13    286.206\n",
      "14    336.166\n",
      "15    254.465\n",
      "16    345.088\n",
      "17    318.675\n",
      "18    255.604\n",
      "19    257.882\n",
      "20    260.964\n",
      "21    298.707\n",
      "22    261.424\n",
      "23    348.338\n",
      "24    542.210\n",
      "25    273.961\n",
      "26    401.238\n",
      "27    301.441\n",
      "28    259.344\n",
      "29    275.036\n",
      "30    343.595\n",
      "31    252.658\n",
      "32    241.027\n",
      "33    352.047\n",
      "34    273.404\n",
      "35    279.823\n",
      "36    280.079\n",
      "Name: time_diff_ms, dtype: float64\n"
     ]
    }
   ],
   "source": [
    "import json\n",
    "import pandas as pd\n",
    "\n",
    "headers = []\n",
    "data = []\n",
    "\n",
    "def parse_line(line):\n",
    "  return list(map(lambda x: x.strip(), line.split('|')))\n",
    "\n",
    "with open('../outputs/dish_status.20240520_165747.log', 'r') as f:\n",
    "  for index, line in enumerate(f):\n",
    "    row = parse_line(line)\n",
    "    if index == 0:\n",
    "      headers.extend(row)\n",
    "    else:\n",
    "      data.append(row)\n",
    "\n",
    "df = pd.DataFrame(data, columns=headers)\n",
    "\n",
    "df['datetime'] = pd.to_datetime(df['utc_time_micro'].apply(int), unit='us')\n",
    "\n",
    "df['time_diff_ms'] = df['datetime'].diff().dt.total_seconds() * 1000\n",
    "\n",
    "df['datetime'] = df['datetime'].dt.tz_localize('UTC').dt.tz_convert('Etc/GMT+4')\n",
    "\n",
    "\n",
    "print(df[['datetime', 'time_diff_ms']])\n",
    "\n",
    "\n"
   ]
  }
 ],
 "metadata": {
  "kernelspec": {
   "display_name": "data_analyst",
   "language": "python",
   "name": "python3"
  },
  "language_info": {
   "codemirror_mode": {
    "name": "ipython",
    "version": 3
   },
   "file_extension": ".py",
   "mimetype": "text/x-python",
   "name": "python",
   "nbconvert_exporter": "python",
   "pygments_lexer": "ipython3",
   "version": "3.12.2"
  }
 },
 "nbformat": 4,
 "nbformat_minor": 2
}
