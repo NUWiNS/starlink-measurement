{
 "cells": [
  {
   "cell_type": "code",
   "execution_count": 2,
   "metadata": {},
   "outputs": [],
   "source": [
    "import json\n",
    "import pandas as pd\n",
    "\n",
    "headers = []\n",
    "data = []\n",
    "\n",
    "def parse_line(line):\n",
    "  return list(map(lambda x: x.strip(), line.split('|')))\n",
    "\n",
    "with open('../outputs/dish_status.20240522_113723.log', 'r') as f:\n",
    "  for index, line in enumerate(f):\n",
    "    row = parse_line(line)\n",
    "    if index == 0:\n",
    "      headers.extend(row)\n",
    "    else:\n",
    "      data.append(row)\n",
    "\n",
    "df = pd.DataFrame(data, columns=headers)\n",
    "\n",
    "\n"
   ]
  },
  {
   "cell_type": "code",
   "execution_count": 5,
   "metadata": {},
   "outputs": [
    {
     "name": "stdout",
     "output_type": "stream",
     "text": [
      "{'id': '0', 'status': None, 'apiVersion': '17', 'dishGetStatus': {'deviceInfo': {'id': 'ut01000000-00000000-0085fd5f', 'hardwareVersion': 'rev4_prod1', 'softwareVersion': 'd8c0f816-b72e-4a22-94d5-bb69144fd759.uterm_manifest.release', 'countryCode': 'US', 'utcOffsetS': -14399, 'softwarePartitionsEqual': False, 'isDev': False, 'bootcount': 34, 'antiRollbackVersion': 0, 'isHitl': False, 'manufacturedVersion': '', 'generationNumber': '1715651906', 'dishCohoused': False, 'boardRev': 0, 'boot': None}, 'deviceState': {'uptimeS': '2337'}, 'secondsToFirstNonemptySlot': 0, 'popPingDropRate': 0, 'obstructionStats': {'fractionObstructed': 0.19086957, 'validS': 1229, 'currentlyObstructed': False, 'avgProlongedObstructionDurationS': 6.616022, 'avgProlongedObstructionIntervalS': 2160, 'avgProlongedObstructionValid': False, 'timeObstructed': 0.024145393, 'patchesValid': 2300}, 'alerts': {'motorsStuck': False, 'thermalShutdown': False, 'thermalThrottle': False, 'unexpectedLocation': False, 'mastNotNearVertical': False, 'slowEthernetSpeeds': False, 'roaming': True, 'installPending': False, 'isHeating': False, 'powerSupplyThermalThrottle': False, 'isPowerSaveIdle': False, 'movingWhileNotMobile': False, 'dbfTelemStale': False, 'movingTooFastForPolicy': False, 'lowMotorCurrent': False, 'lowerSignalThanPredicted': False}, 'downlinkThroughputBps': 17104.371, 'uplinkThroughputBps': 19755.172, 'popPingLatencyMs': 42.389065, 'stowRequested': False, 'boresightAzimuthDeg': -13.598969, 'boresightElevationDeg': 71.272224, 'outage': None, 'gpsStats': {'gpsValid': False, 'gpsSats': 3, 'noSatsAfterTtff': False, 'inhibitGps': False}, 'ethSpeedMbps': 1000, 'mobilityClass': 'MOBILE', 'isSnrAboveNoiseFloor': True, 'readyStates': {'cady': False, 'scp': True, 'l1l2': True, 'xphy': True, 'aap': True, 'rf': True}, 'classOfService': 'UNKNOWN_USER_CLASS_OF_SERVICE', 'softwareUpdateState': 'IDLE', 'isSnrPersistentlyLow': False, 'hasActuators': 'HAS_ACTUATORS_NO', 'disablementCode': 'OKAY', 'hasSignedCals': True, 'softwareUpdateStats': {'softwareUpdateState': 'IDLE', 'softwareUpdateProgress': 0}, 'alignmentStats': {'hasActuators': 'HAS_ACTUATORS_NO', 'actuatorState': 'ACTUATOR_STATE_IDLE', 'tiltAngleDeg': 19.799723, 'boresightAzimuthDeg': -13.598969, 'boresightElevationDeg': 71.272224, 'attitudeEstimationState': 'FILTER_CONVERGED', 'attitudeUncertaintyDeg': 1.015798, 'desiredBoresightAzimuthDeg': 75.9056, 'desiredBoresightElevationDeg': 67.44909}, 'initializationDurationSeconds': {'attitudeInitialization': 869, 'burstDetected': 42, 'ekfConverged': 989, 'firstCplane': 692, 'firstPopPing': 797, 'gpsValid': 1192, 'initialNetworkEntry': 670, 'networkSchedule': 774, 'rfReady': 41, 'stableConnection': 1}, 'isCellDisabled': False, 'swupdateRebootReady': False, 'config': {'snowMeltMode': 'ALWAYS_OFF', 'locationRequestMode': 'NONE', 'levelDishMode': 'TILT_LIKE_NORMAL', 'powerSaveStartMinutes': 0, 'powerSaveDurationMinutes': 0, 'powerSaveMode': False, 'applySnowMeltMode': True, 'applyLocationRequestMode': True, 'applyLevelDishMode': True, 'applyPowerSaveStartMinutes': True, 'applyPowerSaveDurationMinutes': True, 'applyPowerSaveMode': True}}}\n"
     ]
    }
   ],
   "source": [
    "json_data = json.loads(data[0][1])\n",
    "print(json_data)\n"
   ]
  },
  {
   "cell_type": "code",
   "execution_count": 3,
   "metadata": {},
   "outputs": [
    {
     "name": "stdout",
     "output_type": "stream",
     "text": [
      "                           datetime  time_diff_ms\n",
      "0  2024-05-22 11:37:23.792418-04:00           NaN\n",
      "1  2024-05-22 11:37:24.201339-04:00       408.921\n",
      "2  2024-05-22 11:37:24.476595-04:00       275.256\n",
      "3  2024-05-22 11:37:24.767338-04:00       290.743\n",
      "4  2024-05-22 11:37:25.180737-04:00       413.399\n",
      "5  2024-05-22 11:37:25.477381-04:00       296.644\n",
      "6  2024-05-22 11:37:25.792886-04:00       315.505\n",
      "7  2024-05-22 11:37:26.201192-04:00       408.306\n",
      "8  2024-05-22 11:37:26.495836-04:00       294.644\n",
      "9  2024-05-22 11:37:26.816793-04:00       320.957\n",
      "10 2024-05-22 11:37:27.257445-04:00       440.652\n",
      "11 2024-05-22 11:37:27.697872-04:00       440.427\n",
      "12 2024-05-22 11:37:28.120597-04:00       422.725\n",
      "13 2024-05-22 11:37:28.567745-04:00       447.148\n",
      "14 2024-05-22 11:37:28.872855-04:00       305.110\n",
      "15 2024-05-22 11:37:29.218678-04:00       345.823\n",
      "16 2024-05-22 11:37:29.698975-04:00       480.297\n",
      "17 2024-05-22 11:37:30.120824-04:00       421.849\n",
      "18 2024-05-22 11:37:30.396942-04:00       276.118\n",
      "19 2024-05-22 11:37:30.686214-04:00       289.272\n",
      "20 2024-05-22 11:37:31.110580-04:00       424.366\n",
      "21 2024-05-22 11:37:31.400565-04:00       289.985\n",
      "22 2024-05-22 11:37:31.699051-04:00       298.486\n",
      "23 2024-05-22 11:37:32.156789-04:00       457.738\n",
      "24 2024-05-22 11:37:32.450761-04:00       293.972\n",
      "25 2024-05-22 11:37:32.757090-04:00       306.329\n",
      "26 2024-05-22 11:37:33.160619-04:00       403.529\n",
      "27 2024-05-22 11:37:33.498728-04:00       338.109\n",
      "28 2024-05-22 11:37:33.812911-04:00       314.183\n",
      "29 2024-05-22 11:37:34.218565-04:00       405.654\n",
      "30 2024-05-22 11:37:34.500802-04:00       282.237\n",
      "31 2024-05-22 11:37:34.854992-04:00       354.190\n",
      "32 2024-05-22 11:37:35.280889-04:00       425.897\n",
      "33 2024-05-22 11:37:35.692284-04:00       411.395\n",
      "34 2024-05-22 11:37:36.117992-04:00       425.708\n",
      "35 2024-05-22 11:37:36.457269-04:00       339.277\n",
      "36 2024-05-22 11:37:36.758718-04:00       301.449\n",
      "37 2024-05-22 11:37:37.158222-04:00       399.504\n",
      "38 2024-05-22 11:37:37.445156-04:00       286.934\n",
      "39 2024-05-22 11:37:37.719965-04:00       274.809\n",
      "40 2024-05-22 11:37:38.176907-04:00       456.942\n",
      "41 2024-05-22 11:37:38.476830-04:00       299.923\n",
      "42 2024-05-22 11:37:38.768498-04:00       291.668\n"
     ]
    }
   ],
   "source": [
    "# time difference between each calls\n",
    "\n",
    "df['datetime'] = pd.to_datetime(df['utc_time_micro'].apply(int), unit='us')\n",
    "df['time_diff_ms'] = df['datetime'].diff().dt.total_seconds() * 1000\n",
    "df['datetime'] = df['datetime'].dt.tz_localize('UTC').dt.tz_convert('Etc/GMT+4')\n",
    "\n",
    "\n",
    "print(df[['datetime', 'time_diff_ms']])"
   ]
  }
 ],
 "metadata": {
  "kernelspec": {
   "display_name": "data_analyst",
   "language": "python",
   "name": "python3"
  },
  "language_info": {
   "codemirror_mode": {
    "name": "ipython",
    "version": 3
   },
   "file_extension": ".py",
   "mimetype": "text/x-python",
   "name": "python",
   "nbconvert_exporter": "python",
   "pygments_lexer": "ipython3",
   "version": "3.12.2"
  }
 },
 "nbformat": 4,
 "nbformat_minor": 2
}
