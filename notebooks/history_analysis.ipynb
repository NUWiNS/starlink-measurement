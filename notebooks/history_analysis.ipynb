{
 "cells": [
  {
   "cell_type": "code",
   "execution_count": 10,
   "metadata": {},
   "outputs": [],
   "source": [
    "import json\n",
    "import pandas as pd\n",
    "\n",
    "headers = []\n",
    "data = []\n",
    "\n",
    "def parse_line(line):\n",
    "  return list(map(lambda x: x.strip(), line.split('|')))\n",
    "\n",
    "with open('../outputs/dish_history.20240520_163410.log', 'r') as f:\n",
    "  for index, line in enumerate(f):\n",
    "    row = parse_line(line)\n",
    "    if index == 0:\n",
    "      headers.extend(row)\n",
    "    else:\n",
    "      data.append(row)\n",
    "\n",
    "json_data = json.loads(data[0][1])\n",
    "\n",
    "df = pd.DataFrame(data, columns=headers)\n",
    "print(df)\n",
    "\n",
    "\n"
   ]
  }
 ],
 "metadata": {
  "kernelspec": {
   "display_name": "data_analyst",
   "language": "python",
   "name": "python3"
  },
  "language_info": {
   "codemirror_mode": {
    "name": "ipython",
    "version": 3
   },
   "file_extension": ".py",
   "mimetype": "text/x-python",
   "name": "python",
   "nbconvert_exporter": "python",
   "pygments_lexer": "ipython3",
   "version": "3.12.2"
  }
 },
 "nbformat": 4,
 "nbformat_minor": 2
}
