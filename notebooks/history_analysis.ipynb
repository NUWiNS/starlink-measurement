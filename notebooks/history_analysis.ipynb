{
 "cells": [
  {
   "cell_type": "code",
   "execution_count": 2,
   "metadata": {},
   "outputs": [
    {
     "name": "stdout",
     "output_type": "stream",
     "text": [
      "     utc_time_micro                                           response  \\\n",
      "0  1716392549408790  {\"id\":\"0\",\"status\":null,\"apiVersion\":\"17\",\"dis...   \n",
      "\n",
      "                          datetime  \n",
      "0 2024-05-22 11:42:26.009088-04:00  \n"
     ]
    },
    {
     "name": "stderr",
     "output_type": "stream",
     "text": [
      "/var/folders/xh/2flh6f717j34jt01qj0hhl4m0000gn/T/ipykernel_24272/1588972804.py:22: FutureWarning: The behavior of 'to_datetime' with 'unit' when parsing strings is deprecated. In a future version, strings will be parsed as datetime strings, matching the behavior without a 'unit'. To retain the old behavior, explicitly cast ints or floats to numeric type before calling to_datetime.\n",
      "  df['datetime'] = pd.to_datetime(df['utc_time_micro'], unit='us')\n"
     ]
    }
   ],
   "source": [
    "import json\n",
    "import pandas as pd\n",
    "\n",
    "headers = []\n",
    "data = []\n",
    "\n",
    "def parse_line(line):\n",
    "  return list(map(lambda x: x.strip(), line.split('|')))\n",
    "\n",
    "with open('../outputs/dish_history.20240522_114229.log', 'r') as f:\n",
    "  for index, line in enumerate(f):\n",
    "    row = parse_line(line)\n",
    "    if index == 0:\n",
    "      headers.extend(row)\n",
    "    else:\n",
    "      data.append(row)\n",
    "\n",
    "# json_data = json.loads(data[0][1])\n",
    "\n",
    "df = pd.DataFrame(data, columns=headers)\n",
    "\n",
    "df['datetime'] = pd.to_datetime(df['utc_time_micro'], unit='us')\n",
    "df['datetime'] = df['datetime'].dt.tz_localize('UTC').dt.tz_convert('Etc/GMT+4')\n",
    "\n",
    "print(df)\n",
    "\n"
   ]
  }
 ],
 "metadata": {
  "kernelspec": {
   "display_name": "data_analyst",
   "language": "python",
   "name": "python3"
  },
  "language_info": {
   "codemirror_mode": {
    "name": "ipython",
    "version": 3
   },
   "file_extension": ".py",
   "mimetype": "text/x-python",
   "name": "python",
   "nbconvert_exporter": "python",
   "pygments_lexer": "ipython3",
   "version": "3.12.2"
  }
 },
 "nbformat": 4,
 "nbformat_minor": 2
}
